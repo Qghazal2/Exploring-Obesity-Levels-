{
  "nbformat": 4,
  "nbformat_minor": 0,
  "metadata": {
    "colab": {
      "provenance": [],
      "collapsed_sections": [
        "H9G4XuQmBHWM",
        "yzClUtZhBLzr",
        "MrFt-qy4IkLH",
        "rkpCspgAoFG5",
        "n5X3Z3NSKPq-",
        "xDNhIBQWAmxG",
        "rx57b7O_dh2U",
        "4gduLMdlAWR3",
        "GH9P0Qnaxf7O",
        "LJZ5InneGbm7",
        "QEH1FtSsGK3w",
        "Gxz_vFbZHLyA"
      ]
    },
    "kernelspec": {
      "name": "python3",
      "display_name": "Python 3"
    },
    "language_info": {
      "name": "python"
    }
  },
  "cells": [
    {
      "cell_type": "markdown",
      "source": [
        "# **Exploring Obesity Levels: Insights from  Physical Condition and Gym Exercise Patterns**"
      ],
      "metadata": {
        "id": "H9G4XuQmBHWM"
      }
    },
    {
      "cell_type": "markdown",
      "source": [
        "<h2>Table of Contents</h2>\n",
        "<ul>\n",
        "<li>Introduction</li>\n",
        "<li>Data Wrangling</li>\n",
        "<li>Data Cleaning</li>\n",
        "<li>Exploratory Data Analysis</li>\n",
        "<li>Conclusions</li>\n",
        "</ul>"
      ],
      "metadata": {
        "id": "-vCFRvL_Fkmx"
      }
    },
    {
      "cell_type": "markdown",
      "source": [
        "# **Introduction**"
      ],
      "metadata": {
        "id": "yzClUtZhBLzr"
      }
    },
    {
      "cell_type": "markdown",
      "source": [
        "Obesity represents an increasing global health issue, shaped by a combination of lifestyle choices, eating behaviors, and levels of physical activity. Gaining a clear understanding of the elements that contribute to obesity and recognizing behavior patterns can assist in creating effective strategies and interventions to tackle this problem. This project integrates two complementary datasets to examine the interaction between eating behaviors, physical health, and exercise habits.\n",
        "\n",
        "The first dataset, “Estimation of Obesity Levels Based on Eating Habits and Physical Condition,” sheds light on obesity rates among individuals in Mexico, Peru, and Colombia. It encompasses details such as dietary practices, levels of physical activity, and classifications of obesity ranging from underweight to various obesity categories. This dataset acts as a basis for investigating the correlation between lifestyle choices and body weight along with overall health.\n",
        "\n",
        "The second dataset, “Gym Members Exercise Tracking”, records comprehensive exercise behaviors, including workout intensity, heart rate, BMI, and level of experience. This information provides a deeper understanding of physical activity, which is vital for addressing obesity and enhancing overall fitness.\n",
        "\n",
        "By merging these datasets, this project aims to:\n",
        "\n",
        "Examine the connections between dietary habits, physical activity, and levels of obesity.\n",
        "Recognize patterns in exercise behaviors that lead to improved health results.\n",
        "Offer insights into how dietary and physical elements can collectively affect obesity and fitness advancement.\n",
        "Through statistical analysis, data visualization, and predictive modeling, this study aspires to deliver practical insights regarding the factors affecting obesity and emphasize opportunities for fostering healthier lifestyles."
      ],
      "metadata": {
        "id": "61mmTTkiFx91"
      }
    },
    {
      "cell_type": "markdown",
      "source": [
        "# Data Wrangling"
      ],
      "metadata": {
        "id": "MrFt-qy4IkLH"
      }
    },
    {
      "cell_type": "markdown",
      "source": [
        "## **Importing needed library**"
      ],
      "metadata": {
        "id": "rkpCspgAoFG5"
      }
    },
    {
      "cell_type": "code",
      "execution_count": 108,
      "metadata": {
        "id": "Yx0psagOgWCk"
      },
      "outputs": [],
      "source": [
        "import matplotlib.pyplot as plt\n",
        "import pandas as pd\n",
        "import numpy as np\n",
        "import warnings\n",
        "import seaborn as sns\n",
        "# Suppress FutureWarnings\n",
        "warnings.simplefilter(action='ignore', category=FutureWarning)"
      ]
    },
    {
      "cell_type": "markdown",
      "source": [
        "## Loading DataSets In Different Ways"
      ],
      "metadata": {
        "id": "n5X3Z3NSKPq-"
      }
    },
    {
      "cell_type": "markdown",
      "source": [
        "**Load \"gym_members_exercise_tracking.csv\" file Manually**"
      ],
      "metadata": {
        "id": "d2-S4dmcCLRG"
      }
    },
    {
      "cell_type": "code",
      "source": [
        "data=pd.read_csv('/content/drive/MyDrive/Colab Notebooks/gym_members_exercise_tracking.csv')\n",
        "data.head()"
      ],
      "metadata": {
        "colab": {
          "base_uri": "https://localhost:8080/",
          "height": 243
        },
        "id": "r9In4zBWp7RB",
        "outputId": "a204e365-c836-4433-a5a2-ee0b967c478d"
      },
      "execution_count": 45,
      "outputs": [
        {
          "output_type": "execute_result",
          "data": {
            "text/plain": [
              "   Age  Gender  Weight (kg)  Height (m)  Max_BPM  Avg_BPM  Resting_BPM  \\\n",
              "0   56    Male         88.3        1.71      180      157           60   \n",
              "1   46  Female         74.9        1.53      179      151           66   \n",
              "2   32  Female         68.1        1.66      167      122           54   \n",
              "3   25    Male         53.2        1.70      190      164           56   \n",
              "4   38    Male         46.1        1.79      188      158           68   \n",
              "\n",
              "   Session_Duration (hours)  Calories_Burned Workout_Type  Fat_Percentage  \\\n",
              "0                      1.69           1313.0         Yoga            12.6   \n",
              "1                      1.30            883.0         HIIT            33.9   \n",
              "2                      1.11            677.0       Cardio            33.4   \n",
              "3                      0.59            532.0     Strength            28.8   \n",
              "4                      0.64            556.0     Strength            29.2   \n",
              "\n",
              "   Water_Intake (liters)  Workout_Frequency (days/week)  Experience_Level  \\\n",
              "0                    3.5                              4                 3   \n",
              "1                    2.1                              4                 2   \n",
              "2                    2.3                              4                 2   \n",
              "3                    2.1                              3                 1   \n",
              "4                    2.8                              3                 1   \n",
              "\n",
              "     BMI  \n",
              "0  30.20  \n",
              "1  32.00  \n",
              "2  24.71  \n",
              "3  18.41  \n",
              "4  14.39  "
            ],
            "text/html": [
              "\n",
              "  <div id=\"df-e3c85401-84f0-4bf2-a4b2-d8f23b389522\" class=\"colab-df-container\">\n",
              "    <div>\n",
              "<style scoped>\n",
              "    .dataframe tbody tr th:only-of-type {\n",
              "        vertical-align: middle;\n",
              "    }\n",
              "\n",
              "    .dataframe tbody tr th {\n",
              "        vertical-align: top;\n",
              "    }\n",
              "\n",
              "    .dataframe thead th {\n",
              "        text-align: right;\n",
              "    }\n",
              "</style>\n",
              "<table border=\"1\" class=\"dataframe\">\n",
              "  <thead>\n",
              "    <tr style=\"text-align: right;\">\n",
              "      <th></th>\n",
              "      <th>Age</th>\n",
              "      <th>Gender</th>\n",
              "      <th>Weight (kg)</th>\n",
              "      <th>Height (m)</th>\n",
              "      <th>Max_BPM</th>\n",
              "      <th>Avg_BPM</th>\n",
              "      <th>Resting_BPM</th>\n",
              "      <th>Session_Duration (hours)</th>\n",
              "      <th>Calories_Burned</th>\n",
              "      <th>Workout_Type</th>\n",
              "      <th>Fat_Percentage</th>\n",
              "      <th>Water_Intake (liters)</th>\n",
              "      <th>Workout_Frequency (days/week)</th>\n",
              "      <th>Experience_Level</th>\n",
              "      <th>BMI</th>\n",
              "    </tr>\n",
              "  </thead>\n",
              "  <tbody>\n",
              "    <tr>\n",
              "      <th>0</th>\n",
              "      <td>56</td>\n",
              "      <td>Male</td>\n",
              "      <td>88.3</td>\n",
              "      <td>1.71</td>\n",
              "      <td>180</td>\n",
              "      <td>157</td>\n",
              "      <td>60</td>\n",
              "      <td>1.69</td>\n",
              "      <td>1313.0</td>\n",
              "      <td>Yoga</td>\n",
              "      <td>12.6</td>\n",
              "      <td>3.5</td>\n",
              "      <td>4</td>\n",
              "      <td>3</td>\n",
              "      <td>30.20</td>\n",
              "    </tr>\n",
              "    <tr>\n",
              "      <th>1</th>\n",
              "      <td>46</td>\n",
              "      <td>Female</td>\n",
              "      <td>74.9</td>\n",
              "      <td>1.53</td>\n",
              "      <td>179</td>\n",
              "      <td>151</td>\n",
              "      <td>66</td>\n",
              "      <td>1.30</td>\n",
              "      <td>883.0</td>\n",
              "      <td>HIIT</td>\n",
              "      <td>33.9</td>\n",
              "      <td>2.1</td>\n",
              "      <td>4</td>\n",
              "      <td>2</td>\n",
              "      <td>32.00</td>\n",
              "    </tr>\n",
              "    <tr>\n",
              "      <th>2</th>\n",
              "      <td>32</td>\n",
              "      <td>Female</td>\n",
              "      <td>68.1</td>\n",
              "      <td>1.66</td>\n",
              "      <td>167</td>\n",
              "      <td>122</td>\n",
              "      <td>54</td>\n",
              "      <td>1.11</td>\n",
              "      <td>677.0</td>\n",
              "      <td>Cardio</td>\n",
              "      <td>33.4</td>\n",
              "      <td>2.3</td>\n",
              "      <td>4</td>\n",
              "      <td>2</td>\n",
              "      <td>24.71</td>\n",
              "    </tr>\n",
              "    <tr>\n",
              "      <th>3</th>\n",
              "      <td>25</td>\n",
              "      <td>Male</td>\n",
              "      <td>53.2</td>\n",
              "      <td>1.70</td>\n",
              "      <td>190</td>\n",
              "      <td>164</td>\n",
              "      <td>56</td>\n",
              "      <td>0.59</td>\n",
              "      <td>532.0</td>\n",
              "      <td>Strength</td>\n",
              "      <td>28.8</td>\n",
              "      <td>2.1</td>\n",
              "      <td>3</td>\n",
              "      <td>1</td>\n",
              "      <td>18.41</td>\n",
              "    </tr>\n",
              "    <tr>\n",
              "      <th>4</th>\n",
              "      <td>38</td>\n",
              "      <td>Male</td>\n",
              "      <td>46.1</td>\n",
              "      <td>1.79</td>\n",
              "      <td>188</td>\n",
              "      <td>158</td>\n",
              "      <td>68</td>\n",
              "      <td>0.64</td>\n",
              "      <td>556.0</td>\n",
              "      <td>Strength</td>\n",
              "      <td>29.2</td>\n",
              "      <td>2.8</td>\n",
              "      <td>3</td>\n",
              "      <td>1</td>\n",
              "      <td>14.39</td>\n",
              "    </tr>\n",
              "  </tbody>\n",
              "</table>\n",
              "</div>\n",
              "    <div class=\"colab-df-buttons\">\n",
              "\n",
              "  <div class=\"colab-df-container\">\n",
              "    <button class=\"colab-df-convert\" onclick=\"convertToInteractive('df-e3c85401-84f0-4bf2-a4b2-d8f23b389522')\"\n",
              "            title=\"Convert this dataframe to an interactive table.\"\n",
              "            style=\"display:none;\">\n",
              "\n",
              "  <svg xmlns=\"http://www.w3.org/2000/svg\" height=\"24px\" viewBox=\"0 -960 960 960\">\n",
              "    <path d=\"M120-120v-720h720v720H120Zm60-500h600v-160H180v160Zm220 220h160v-160H400v160Zm0 220h160v-160H400v160ZM180-400h160v-160H180v160Zm440 0h160v-160H620v160ZM180-180h160v-160H180v160Zm440 0h160v-160H620v160Z\"/>\n",
              "  </svg>\n",
              "    </button>\n",
              "\n",
              "  <style>\n",
              "    .colab-df-container {\n",
              "      display:flex;\n",
              "      gap: 12px;\n",
              "    }\n",
              "\n",
              "    .colab-df-convert {\n",
              "      background-color: #E8F0FE;\n",
              "      border: none;\n",
              "      border-radius: 50%;\n",
              "      cursor: pointer;\n",
              "      display: none;\n",
              "      fill: #1967D2;\n",
              "      height: 32px;\n",
              "      padding: 0 0 0 0;\n",
              "      width: 32px;\n",
              "    }\n",
              "\n",
              "    .colab-df-convert:hover {\n",
              "      background-color: #E2EBFA;\n",
              "      box-shadow: 0px 1px 2px rgba(60, 64, 67, 0.3), 0px 1px 3px 1px rgba(60, 64, 67, 0.15);\n",
              "      fill: #174EA6;\n",
              "    }\n",
              "\n",
              "    .colab-df-buttons div {\n",
              "      margin-bottom: 4px;\n",
              "    }\n",
              "\n",
              "    [theme=dark] .colab-df-convert {\n",
              "      background-color: #3B4455;\n",
              "      fill: #D2E3FC;\n",
              "    }\n",
              "\n",
              "    [theme=dark] .colab-df-convert:hover {\n",
              "      background-color: #434B5C;\n",
              "      box-shadow: 0px 1px 3px 1px rgba(0, 0, 0, 0.15);\n",
              "      filter: drop-shadow(0px 1px 2px rgba(0, 0, 0, 0.3));\n",
              "      fill: #FFFFFF;\n",
              "    }\n",
              "  </style>\n",
              "\n",
              "    <script>\n",
              "      const buttonEl =\n",
              "        document.querySelector('#df-e3c85401-84f0-4bf2-a4b2-d8f23b389522 button.colab-df-convert');\n",
              "      buttonEl.style.display =\n",
              "        google.colab.kernel.accessAllowed ? 'block' : 'none';\n",
              "\n",
              "      async function convertToInteractive(key) {\n",
              "        const element = document.querySelector('#df-e3c85401-84f0-4bf2-a4b2-d8f23b389522');\n",
              "        const dataTable =\n",
              "          await google.colab.kernel.invokeFunction('convertToInteractive',\n",
              "                                                    [key], {});\n",
              "        if (!dataTable) return;\n",
              "\n",
              "        const docLinkHtml = 'Like what you see? Visit the ' +\n",
              "          '<a target=\"_blank\" href=https://colab.research.google.com/notebooks/data_table.ipynb>data table notebook</a>'\n",
              "          + ' to learn more about interactive tables.';\n",
              "        element.innerHTML = '';\n",
              "        dataTable['output_type'] = 'display_data';\n",
              "        await google.colab.output.renderOutput(dataTable, element);\n",
              "        const docLink = document.createElement('div');\n",
              "        docLink.innerHTML = docLinkHtml;\n",
              "        element.appendChild(docLink);\n",
              "      }\n",
              "    </script>\n",
              "  </div>\n",
              "\n",
              "\n",
              "<div id=\"df-6c8d18e9-2299-4f68-91b6-93371bb6b9da\">\n",
              "  <button class=\"colab-df-quickchart\" onclick=\"quickchart('df-6c8d18e9-2299-4f68-91b6-93371bb6b9da')\"\n",
              "            title=\"Suggest charts\"\n",
              "            style=\"display:none;\">\n",
              "\n",
              "<svg xmlns=\"http://www.w3.org/2000/svg\" height=\"24px\"viewBox=\"0 0 24 24\"\n",
              "     width=\"24px\">\n",
              "    <g>\n",
              "        <path d=\"M19 3H5c-1.1 0-2 .9-2 2v14c0 1.1.9 2 2 2h14c1.1 0 2-.9 2-2V5c0-1.1-.9-2-2-2zM9 17H7v-7h2v7zm4 0h-2V7h2v10zm4 0h-2v-4h2v4z\"/>\n",
              "    </g>\n",
              "</svg>\n",
              "  </button>\n",
              "\n",
              "<style>\n",
              "  .colab-df-quickchart {\n",
              "      --bg-color: #E8F0FE;\n",
              "      --fill-color: #1967D2;\n",
              "      --hover-bg-color: #E2EBFA;\n",
              "      --hover-fill-color: #174EA6;\n",
              "      --disabled-fill-color: #AAA;\n",
              "      --disabled-bg-color: #DDD;\n",
              "  }\n",
              "\n",
              "  [theme=dark] .colab-df-quickchart {\n",
              "      --bg-color: #3B4455;\n",
              "      --fill-color: #D2E3FC;\n",
              "      --hover-bg-color: #434B5C;\n",
              "      --hover-fill-color: #FFFFFF;\n",
              "      --disabled-bg-color: #3B4455;\n",
              "      --disabled-fill-color: #666;\n",
              "  }\n",
              "\n",
              "  .colab-df-quickchart {\n",
              "    background-color: var(--bg-color);\n",
              "    border: none;\n",
              "    border-radius: 50%;\n",
              "    cursor: pointer;\n",
              "    display: none;\n",
              "    fill: var(--fill-color);\n",
              "    height: 32px;\n",
              "    padding: 0;\n",
              "    width: 32px;\n",
              "  }\n",
              "\n",
              "  .colab-df-quickchart:hover {\n",
              "    background-color: var(--hover-bg-color);\n",
              "    box-shadow: 0 1px 2px rgba(60, 64, 67, 0.3), 0 1px 3px 1px rgba(60, 64, 67, 0.15);\n",
              "    fill: var(--button-hover-fill-color);\n",
              "  }\n",
              "\n",
              "  .colab-df-quickchart-complete:disabled,\n",
              "  .colab-df-quickchart-complete:disabled:hover {\n",
              "    background-color: var(--disabled-bg-color);\n",
              "    fill: var(--disabled-fill-color);\n",
              "    box-shadow: none;\n",
              "  }\n",
              "\n",
              "  .colab-df-spinner {\n",
              "    border: 2px solid var(--fill-color);\n",
              "    border-color: transparent;\n",
              "    border-bottom-color: var(--fill-color);\n",
              "    animation:\n",
              "      spin 1s steps(1) infinite;\n",
              "  }\n",
              "\n",
              "  @keyframes spin {\n",
              "    0% {\n",
              "      border-color: transparent;\n",
              "      border-bottom-color: var(--fill-color);\n",
              "      border-left-color: var(--fill-color);\n",
              "    }\n",
              "    20% {\n",
              "      border-color: transparent;\n",
              "      border-left-color: var(--fill-color);\n",
              "      border-top-color: var(--fill-color);\n",
              "    }\n",
              "    30% {\n",
              "      border-color: transparent;\n",
              "      border-left-color: var(--fill-color);\n",
              "      border-top-color: var(--fill-color);\n",
              "      border-right-color: var(--fill-color);\n",
              "    }\n",
              "    40% {\n",
              "      border-color: transparent;\n",
              "      border-right-color: var(--fill-color);\n",
              "      border-top-color: var(--fill-color);\n",
              "    }\n",
              "    60% {\n",
              "      border-color: transparent;\n",
              "      border-right-color: var(--fill-color);\n",
              "    }\n",
              "    80% {\n",
              "      border-color: transparent;\n",
              "      border-right-color: var(--fill-color);\n",
              "      border-bottom-color: var(--fill-color);\n",
              "    }\n",
              "    90% {\n",
              "      border-color: transparent;\n",
              "      border-bottom-color: var(--fill-color);\n",
              "    }\n",
              "  }\n",
              "</style>\n",
              "\n",
              "  <script>\n",
              "    async function quickchart(key) {\n",
              "      const quickchartButtonEl =\n",
              "        document.querySelector('#' + key + ' button');\n",
              "      quickchartButtonEl.disabled = true;  // To prevent multiple clicks.\n",
              "      quickchartButtonEl.classList.add('colab-df-spinner');\n",
              "      try {\n",
              "        const charts = await google.colab.kernel.invokeFunction(\n",
              "            'suggestCharts', [key], {});\n",
              "      } catch (error) {\n",
              "        console.error('Error during call to suggestCharts:', error);\n",
              "      }\n",
              "      quickchartButtonEl.classList.remove('colab-df-spinner');\n",
              "      quickchartButtonEl.classList.add('colab-df-quickchart-complete');\n",
              "    }\n",
              "    (() => {\n",
              "      let quickchartButtonEl =\n",
              "        document.querySelector('#df-6c8d18e9-2299-4f68-91b6-93371bb6b9da button');\n",
              "      quickchartButtonEl.style.display =\n",
              "        google.colab.kernel.accessAllowed ? 'block' : 'none';\n",
              "    })();\n",
              "  </script>\n",
              "</div>\n",
              "\n",
              "    </div>\n",
              "  </div>\n"
            ],
            "application/vnd.google.colaboratory.intrinsic+json": {
              "type": "dataframe",
              "variable_name": "data",
              "summary": "{\n  \"name\": \"data\",\n  \"rows\": 973,\n  \"fields\": [\n    {\n      \"column\": \"Age\",\n      \"properties\": {\n        \"dtype\": \"number\",\n        \"std\": 12,\n        \"min\": 18,\n        \"max\": 59,\n        \"num_unique_values\": 42,\n        \"samples\": [\n          26,\n          19,\n          41\n        ],\n        \"semantic_type\": \"\",\n        \"description\": \"\"\n      }\n    },\n    {\n      \"column\": \"Gender\",\n      \"properties\": {\n        \"dtype\": \"category\",\n        \"num_unique_values\": 2,\n        \"samples\": [\n          \"Female\",\n          \"Male\"\n        ],\n        \"semantic_type\": \"\",\n        \"description\": \"\"\n      }\n    },\n    {\n      \"column\": \"Weight (kg)\",\n      \"properties\": {\n        \"dtype\": \"number\",\n        \"std\": 21.20750049840718,\n        \"min\": 40.0,\n        \"max\": 129.9,\n        \"num_unique_values\": 532,\n        \"samples\": [\n          70.3,\n          127.1\n        ],\n        \"semantic_type\": \"\",\n        \"description\": \"\"\n      }\n    },\n    {\n      \"column\": \"Height (m)\",\n      \"properties\": {\n        \"dtype\": \"number\",\n        \"std\": 0.12771989460721703,\n        \"min\": 1.5,\n        \"max\": 2.0,\n        \"num_unique_values\": 51,\n        \"samples\": [\n          1.92,\n          1.96\n        ],\n        \"semantic_type\": \"\",\n        \"description\": \"\"\n      }\n    },\n    {\n      \"column\": \"Max_BPM\",\n      \"properties\": {\n        \"dtype\": \"number\",\n        \"std\": 11,\n        \"min\": 160,\n        \"max\": 199,\n        \"num_unique_values\": 40,\n        \"samples\": [\n          173,\n          199\n        ],\n        \"semantic_type\": \"\",\n        \"description\": \"\"\n      }\n    },\n    {\n      \"column\": \"Avg_BPM\",\n      \"properties\": {\n        \"dtype\": \"number\",\n        \"std\": 14,\n        \"min\": 120,\n        \"max\": 169,\n        \"num_unique_values\": 50,\n        \"samples\": [\n          161,\n          130\n        ],\n        \"semantic_type\": \"\",\n        \"description\": \"\"\n      }\n    },\n    {\n      \"column\": \"Resting_BPM\",\n      \"properties\": {\n        \"dtype\": \"number\",\n        \"std\": 7,\n        \"min\": 50,\n        \"max\": 74,\n        \"num_unique_values\": 25,\n        \"samples\": [\n          52,\n          62\n        ],\n        \"semantic_type\": \"\",\n        \"description\": \"\"\n      }\n    },\n    {\n      \"column\": \"Session_Duration (hours)\",\n      \"properties\": {\n        \"dtype\": \"number\",\n        \"std\": 0.3430334803899634,\n        \"min\": 0.5,\n        \"max\": 2.0,\n        \"num_unique_values\": 147,\n        \"samples\": [\n          1.9,\n          1.81\n        ],\n        \"semantic_type\": \"\",\n        \"description\": \"\"\n      }\n    },\n    {\n      \"column\": \"Calories_Burned\",\n      \"properties\": {\n        \"dtype\": \"number\",\n        \"std\": 272.64151645225877,\n        \"min\": 303.0,\n        \"max\": 1783.0,\n        \"num_unique_values\": 621,\n        \"samples\": [\n          1122.0,\n          494.0\n        ],\n        \"semantic_type\": \"\",\n        \"description\": \"\"\n      }\n    },\n    {\n      \"column\": \"Workout_Type\",\n      \"properties\": {\n        \"dtype\": \"category\",\n        \"num_unique_values\": 4,\n        \"samples\": [\n          \"HIIT\",\n          \"Strength\"\n        ],\n        \"semantic_type\": \"\",\n        \"description\": \"\"\n      }\n    },\n    {\n      \"column\": \"Fat_Percentage\",\n      \"properties\": {\n        \"dtype\": \"number\",\n        \"std\": 6.259418834269056,\n        \"min\": 10.0,\n        \"max\": 35.0,\n        \"num_unique_values\": 239,\n        \"samples\": [\n          26.1,\n          21.3\n        ],\n        \"semantic_type\": \"\",\n        \"description\": \"\"\n      }\n    },\n    {\n      \"column\": \"Water_Intake (liters)\",\n      \"properties\": {\n        \"dtype\": \"number\",\n        \"std\": 0.6001719365613234,\n        \"min\": 1.5,\n        \"max\": 3.7,\n        \"num_unique_values\": 23,\n        \"samples\": [\n          1.8,\n          3.3\n        ],\n        \"semantic_type\": \"\",\n        \"description\": \"\"\n      }\n    },\n    {\n      \"column\": \"Workout_Frequency (days/week)\",\n      \"properties\": {\n        \"dtype\": \"number\",\n        \"std\": 0,\n        \"min\": 2,\n        \"max\": 5,\n        \"num_unique_values\": 4,\n        \"samples\": [\n          3,\n          2\n        ],\n        \"semantic_type\": \"\",\n        \"description\": \"\"\n      }\n    },\n    {\n      \"column\": \"Experience_Level\",\n      \"properties\": {\n        \"dtype\": \"number\",\n        \"std\": 0,\n        \"min\": 1,\n        \"max\": 3,\n        \"num_unique_values\": 3,\n        \"samples\": [\n          3,\n          2\n        ],\n        \"semantic_type\": \"\",\n        \"description\": \"\"\n      }\n    },\n    {\n      \"column\": \"BMI\",\n      \"properties\": {\n        \"dtype\": \"number\",\n        \"std\": 6.660879393631086,\n        \"min\": 12.32,\n        \"max\": 49.84,\n        \"num_unique_values\": 771,\n        \"samples\": [\n          22.67,\n          23.94\n        ],\n        \"semantic_type\": \"\",\n        \"description\": \"\"\n      }\n    }\n  ]\n}"
            }
          },
          "metadata": {},
          "execution_count": 45
        }
      ]
    },
    {
      "cell_type": "markdown",
      "source": [
        "**Load the dataset \"Estimation of Obesity Levels Based On Eating Habits and Physical Condition\" through APIs, utilizing the ucimlrepo library to fetch datasets from the UCI ML Repository automatically.**"
      ],
      "metadata": {
        "id": "Nvv_hoMYOpjb"
      }
    },
    {
      "cell_type": "code",
      "source": [
        "pip install ucimlrepo"
      ],
      "metadata": {
        "colab": {
          "base_uri": "https://localhost:8080/"
        },
        "id": "RLnqD5nBhI4v",
        "outputId": "d461441e-3fd0-42b8-b0bb-e199f3d7a3ff"
      },
      "execution_count": null,
      "outputs": [
        {
          "output_type": "stream",
          "name": "stdout",
          "text": [
            "Collecting ucimlrepo\n",
            "  Downloading ucimlrepo-0.0.7-py3-none-any.whl.metadata (5.5 kB)\n",
            "Requirement already satisfied: pandas>=1.0.0 in /usr/local/lib/python3.10/dist-packages (from ucimlrepo) (2.2.2)\n",
            "Requirement already satisfied: certifi>=2020.12.5 in /usr/local/lib/python3.10/dist-packages (from ucimlrepo) (2024.8.30)\n",
            "Requirement already satisfied: numpy>=1.22.4 in /usr/local/lib/python3.10/dist-packages (from pandas>=1.0.0->ucimlrepo) (1.26.4)\n",
            "Requirement already satisfied: python-dateutil>=2.8.2 in /usr/local/lib/python3.10/dist-packages (from pandas>=1.0.0->ucimlrepo) (2.8.2)\n",
            "Requirement already satisfied: pytz>=2020.1 in /usr/local/lib/python3.10/dist-packages (from pandas>=1.0.0->ucimlrepo) (2024.2)\n",
            "Requirement already satisfied: tzdata>=2022.7 in /usr/local/lib/python3.10/dist-packages (from pandas>=1.0.0->ucimlrepo) (2024.2)\n",
            "Requirement already satisfied: six>=1.5 in /usr/local/lib/python3.10/dist-packages (from python-dateutil>=2.8.2->pandas>=1.0.0->ucimlrepo) (1.16.0)\n",
            "Downloading ucimlrepo-0.0.7-py3-none-any.whl (8.0 kB)\n",
            "Installing collected packages: ucimlrepo\n",
            "Successfully installed ucimlrepo-0.0.7\n"
          ]
        }
      ]
    },
    {
      "cell_type": "code",
      "source": [
        "from ucimlrepo import fetch_ucirepo\n",
        "\n",
        "# fetch dataset\n",
        "estimation_of_obesity_levels_based_on_eating_habits_and_physical_condition = fetch_ucirepo(id=544)\n",
        "\n",
        "# data (as pandas dataframes)\n",
        "X = estimation_of_obesity_levels_based_on_eating_habits_and_physical_condition.data.features\n",
        "y = estimation_of_obesity_levels_based_on_eating_habits_and_physical_condition.data.targets\n",
        "\n",
        "# metadata\n",
        "print(estimation_of_obesity_levels_based_on_eating_habits_and_physical_condition.metadata)\n",
        "\n",
        "# variable information\n",
        "print(estimation_of_obesity_levels_based_on_eating_habits_and_physical_condition.variables)\n"
      ],
      "metadata": {
        "colab": {
          "base_uri": "https://localhost:8080/"
        },
        "id": "ACuIh6NDhJpT",
        "outputId": "b5934554-b7ca-4eea-cc66-1b6cb7073817",
        "collapsed": true
      },
      "execution_count": 47,
      "outputs": [
        {
          "output_type": "stream",
          "name": "stdout",
          "text": [
            "{'uci_id': 544, 'name': 'Estimation of Obesity Levels Based On Eating Habits and Physical Condition ', 'repository_url': 'https://archive.ics.uci.edu/dataset/544/estimation+of+obesity+levels+based+on+eating+habits+and+physical+condition', 'data_url': 'https://archive.ics.uci.edu/static/public/544/data.csv', 'abstract': 'This dataset include data for the estimation of obesity levels in individuals from the countries of Mexico, Peru and Colombia, based on their eating habits and physical condition. ', 'area': 'Health and Medicine', 'tasks': ['Classification', 'Regression', 'Clustering'], 'characteristics': ['Multivariate'], 'num_instances': 2111, 'num_features': 16, 'feature_types': ['Integer'], 'demographics': ['Gender', 'Age'], 'target_col': ['NObeyesdad'], 'index_col': None, 'has_missing_values': 'no', 'missing_values_symbol': None, 'year_of_dataset_creation': 2019, 'last_updated': 'Tue Sep 10 2024', 'dataset_doi': '10.24432/C5H31Z', 'creators': [], 'intro_paper': {'ID': 358, 'type': 'NATIVE', 'title': 'Dataset for estimation of obesity levels based on eating habits and physical condition in individuals from Colombia, Peru and Mexico', 'authors': 'Fabio Mendoza Palechor, Alexis De la Hoz Manotas', 'venue': 'Data in Brief', 'year': 2019, 'journal': None, 'DOI': '10.1016/j.dib.2019.104344', 'URL': 'https://www.semanticscholar.org/paper/35b40bacd2ffa9370885b7a3004d88995fd1d011', 'sha': None, 'corpus': None, 'arxiv': None, 'mag': None, 'acl': None, 'pmid': None, 'pmcid': None}, 'additional_info': {'summary': 'This dataset include data for the estimation of obesity levels in individuals from the countries of Mexico, Peru and Colombia, based on their eating habits and physical condition. The data contains 17 attributes and 2111 records, the records are labeled with the class variable NObesity (Obesity Level), that allows classification of the data using the values of Insufficient Weight, Normal Weight, Overweight Level I, Overweight Level II, Obesity Type I, Obesity Type II and Obesity Type III. 77% of the data was generated synthetically using the Weka tool and the SMOTE filter, 23% of the data was collected directly from users through a web platform.', 'purpose': None, 'funded_by': None, 'instances_represent': None, 'recommended_data_splits': None, 'sensitive_data': None, 'preprocessing_description': None, 'variable_info': 'Read the article (https://doi.org/10.1016/j.dib.2019.104344) to see the description of the attributes.', 'citation': None}}\n",
            "                              name     role         type demographic  \\\n",
            "0                           Gender  Feature  Categorical      Gender   \n",
            "1                              Age  Feature   Continuous         Age   \n",
            "2                           Height  Feature   Continuous        None   \n",
            "3                           Weight  Feature   Continuous        None   \n",
            "4   family_history_with_overweight  Feature       Binary        None   \n",
            "5                             FAVC  Feature       Binary        None   \n",
            "6                             FCVC  Feature      Integer        None   \n",
            "7                              NCP  Feature   Continuous        None   \n",
            "8                             CAEC  Feature  Categorical        None   \n",
            "9                            SMOKE  Feature       Binary        None   \n",
            "10                            CH2O  Feature   Continuous        None   \n",
            "11                             SCC  Feature       Binary        None   \n",
            "12                             FAF  Feature   Continuous        None   \n",
            "13                             TUE  Feature      Integer        None   \n",
            "14                            CALC  Feature  Categorical        None   \n",
            "15                          MTRANS  Feature  Categorical        None   \n",
            "16                      NObeyesdad   Target  Categorical        None   \n",
            "\n",
            "                                          description units missing_values  \n",
            "0                                                None  None             no  \n",
            "1                                                None  None             no  \n",
            "2                                                None  None             no  \n",
            "3                                                None  None             no  \n",
            "4   Has a family member suffered or suffers from o...  None             no  \n",
            "5            Do you eat high caloric food frequently?  None             no  \n",
            "6        Do you usually eat vegetables in your meals?  None             no  \n",
            "7              How many main meals do you have daily?  None             no  \n",
            "8                  Do you eat any food between meals?  None             no  \n",
            "9                                       Do you smoke?  None             no  \n",
            "10                 How much water do you drink daily?  None             no  \n",
            "11         Do you monitor the calories you eat daily?  None             no  \n",
            "12           How often do you have physical activity?  None             no  \n",
            "13  How much time do you use technological devices...  None             no  \n",
            "14                    How often do you drink alcohol?  None             no  \n",
            "15           Which transportation do you usually use?  None             no  \n",
            "16                                      Obesity level  None             no  \n"
          ]
        }
      ]
    },
    {
      "cell_type": "markdown",
      "source": [],
      "metadata": {
        "id": "gc-caC2joCaD"
      }
    },
    {
      "cell_type": "markdown",
      "source": [
        "# Data Assessing"
      ],
      "metadata": {
        "id": "xDNhIBQWAmxG"
      }
    },
    {
      "cell_type": "markdown",
      "source": [
        "## Dropping unuseful columns and doing some enhancements on 'DATA' dataset"
      ],
      "metadata": {
        "id": "rx57b7O_dh2U"
      }
    },
    {
      "cell_type": "code",
      "source": [
        "#drop unusfule column from Data dataset\n",
        "columns = ['Max_BPM', 'Avg_BPM', 'Resting_BPM', 'Session_Duration (hours)', 'Calories_Burned', 'Experience_Level','Fat_Percentage']\n",
        "data = data.drop(columns=columns) # Drop the specified columns"
      ],
      "metadata": {
        "id": "nVbwRjv-azhi"
      },
      "execution_count": 48,
      "outputs": []
    },
    {
      "cell_type": "markdown",
      "source": [
        "Renaming Columns"
      ],
      "metadata": {
        "id": "GSq8GGN2Mr7o"
      }
    },
    {
      "cell_type": "code",
      "source": [
        "\n",
        "# Dictionary for renaming columns\n",
        "columns_rename = {\n",
        "    'Workout_Frequency (days/week)': 'Workout(days/week)'\n",
        "}\n",
        "\n",
        "# Renaming the columns in data\n",
        "data = data.rename(columns=columns_rename)\n",
        "\n",
        "# Verify the changes\n",
        "print(data.columns)\n"
      ],
      "metadata": {
        "colab": {
          "base_uri": "https://localhost:8080/"
        },
        "id": "v-zY0mo1hx0K",
        "outputId": "96dcdd0e-c72f-4f00-bdec-c9d67c020624"
      },
      "execution_count": 49,
      "outputs": [
        {
          "output_type": "stream",
          "name": "stdout",
          "text": [
            "Index(['Age', 'Gender', 'Weight (kg)', 'Height (m)', 'Workout_Type',\n",
            "       'Water_Intake (liters)', 'Workout(days/week)', 'BMI'],\n",
            "      dtype='object')\n"
          ]
        }
      ]
    },
    {
      "cell_type": "code",
      "source": [
        "data.head() # Display the first few rows of the dataset"
      ],
      "metadata": {
        "colab": {
          "base_uri": "https://localhost:8080/",
          "height": 206
        },
        "id": "ELYhgZ2nbyTB",
        "outputId": "8cb49f3b-fac3-4e07-8dee-2dcfb003c5cc"
      },
      "execution_count": 50,
      "outputs": [
        {
          "output_type": "execute_result",
          "data": {
            "text/plain": [
              "   Age  Gender  Weight (kg)  Height (m) Workout_Type  Water_Intake (liters)  \\\n",
              "0   56    Male         88.3        1.71         Yoga                    3.5   \n",
              "1   46  Female         74.9        1.53         HIIT                    2.1   \n",
              "2   32  Female         68.1        1.66       Cardio                    2.3   \n",
              "3   25    Male         53.2        1.70     Strength                    2.1   \n",
              "4   38    Male         46.1        1.79     Strength                    2.8   \n",
              "\n",
              "   Workout(days/week)    BMI  \n",
              "0                   4  30.20  \n",
              "1                   4  32.00  \n",
              "2                   4  24.71  \n",
              "3                   3  18.41  \n",
              "4                   3  14.39  "
            ],
            "text/html": [
              "\n",
              "  <div id=\"df-4b6524f8-4733-434a-9936-02feaf864879\" class=\"colab-df-container\">\n",
              "    <div>\n",
              "<style scoped>\n",
              "    .dataframe tbody tr th:only-of-type {\n",
              "        vertical-align: middle;\n",
              "    }\n",
              "\n",
              "    .dataframe tbody tr th {\n",
              "        vertical-align: top;\n",
              "    }\n",
              "\n",
              "    .dataframe thead th {\n",
              "        text-align: right;\n",
              "    }\n",
              "</style>\n",
              "<table border=\"1\" class=\"dataframe\">\n",
              "  <thead>\n",
              "    <tr style=\"text-align: right;\">\n",
              "      <th></th>\n",
              "      <th>Age</th>\n",
              "      <th>Gender</th>\n",
              "      <th>Weight (kg)</th>\n",
              "      <th>Height (m)</th>\n",
              "      <th>Workout_Type</th>\n",
              "      <th>Water_Intake (liters)</th>\n",
              "      <th>Workout(days/week)</th>\n",
              "      <th>BMI</th>\n",
              "    </tr>\n",
              "  </thead>\n",
              "  <tbody>\n",
              "    <tr>\n",
              "      <th>0</th>\n",
              "      <td>56</td>\n",
              "      <td>Male</td>\n",
              "      <td>88.3</td>\n",
              "      <td>1.71</td>\n",
              "      <td>Yoga</td>\n",
              "      <td>3.5</td>\n",
              "      <td>4</td>\n",
              "      <td>30.20</td>\n",
              "    </tr>\n",
              "    <tr>\n",
              "      <th>1</th>\n",
              "      <td>46</td>\n",
              "      <td>Female</td>\n",
              "      <td>74.9</td>\n",
              "      <td>1.53</td>\n",
              "      <td>HIIT</td>\n",
              "      <td>2.1</td>\n",
              "      <td>4</td>\n",
              "      <td>32.00</td>\n",
              "    </tr>\n",
              "    <tr>\n",
              "      <th>2</th>\n",
              "      <td>32</td>\n",
              "      <td>Female</td>\n",
              "      <td>68.1</td>\n",
              "      <td>1.66</td>\n",
              "      <td>Cardio</td>\n",
              "      <td>2.3</td>\n",
              "      <td>4</td>\n",
              "      <td>24.71</td>\n",
              "    </tr>\n",
              "    <tr>\n",
              "      <th>3</th>\n",
              "      <td>25</td>\n",
              "      <td>Male</td>\n",
              "      <td>53.2</td>\n",
              "      <td>1.70</td>\n",
              "      <td>Strength</td>\n",
              "      <td>2.1</td>\n",
              "      <td>3</td>\n",
              "      <td>18.41</td>\n",
              "    </tr>\n",
              "    <tr>\n",
              "      <th>4</th>\n",
              "      <td>38</td>\n",
              "      <td>Male</td>\n",
              "      <td>46.1</td>\n",
              "      <td>1.79</td>\n",
              "      <td>Strength</td>\n",
              "      <td>2.8</td>\n",
              "      <td>3</td>\n",
              "      <td>14.39</td>\n",
              "    </tr>\n",
              "  </tbody>\n",
              "</table>\n",
              "</div>\n",
              "    <div class=\"colab-df-buttons\">\n",
              "\n",
              "  <div class=\"colab-df-container\">\n",
              "    <button class=\"colab-df-convert\" onclick=\"convertToInteractive('df-4b6524f8-4733-434a-9936-02feaf864879')\"\n",
              "            title=\"Convert this dataframe to an interactive table.\"\n",
              "            style=\"display:none;\">\n",
              "\n",
              "  <svg xmlns=\"http://www.w3.org/2000/svg\" height=\"24px\" viewBox=\"0 -960 960 960\">\n",
              "    <path d=\"M120-120v-720h720v720H120Zm60-500h600v-160H180v160Zm220 220h160v-160H400v160Zm0 220h160v-160H400v160ZM180-400h160v-160H180v160Zm440 0h160v-160H620v160ZM180-180h160v-160H180v160Zm440 0h160v-160H620v160Z\"/>\n",
              "  </svg>\n",
              "    </button>\n",
              "\n",
              "  <style>\n",
              "    .colab-df-container {\n",
              "      display:flex;\n",
              "      gap: 12px;\n",
              "    }\n",
              "\n",
              "    .colab-df-convert {\n",
              "      background-color: #E8F0FE;\n",
              "      border: none;\n",
              "      border-radius: 50%;\n",
              "      cursor: pointer;\n",
              "      display: none;\n",
              "      fill: #1967D2;\n",
              "      height: 32px;\n",
              "      padding: 0 0 0 0;\n",
              "      width: 32px;\n",
              "    }\n",
              "\n",
              "    .colab-df-convert:hover {\n",
              "      background-color: #E2EBFA;\n",
              "      box-shadow: 0px 1px 2px rgba(60, 64, 67, 0.3), 0px 1px 3px 1px rgba(60, 64, 67, 0.15);\n",
              "      fill: #174EA6;\n",
              "    }\n",
              "\n",
              "    .colab-df-buttons div {\n",
              "      margin-bottom: 4px;\n",
              "    }\n",
              "\n",
              "    [theme=dark] .colab-df-convert {\n",
              "      background-color: #3B4455;\n",
              "      fill: #D2E3FC;\n",
              "    }\n",
              "\n",
              "    [theme=dark] .colab-df-convert:hover {\n",
              "      background-color: #434B5C;\n",
              "      box-shadow: 0px 1px 3px 1px rgba(0, 0, 0, 0.15);\n",
              "      filter: drop-shadow(0px 1px 2px rgba(0, 0, 0, 0.3));\n",
              "      fill: #FFFFFF;\n",
              "    }\n",
              "  </style>\n",
              "\n",
              "    <script>\n",
              "      const buttonEl =\n",
              "        document.querySelector('#df-4b6524f8-4733-434a-9936-02feaf864879 button.colab-df-convert');\n",
              "      buttonEl.style.display =\n",
              "        google.colab.kernel.accessAllowed ? 'block' : 'none';\n",
              "\n",
              "      async function convertToInteractive(key) {\n",
              "        const element = document.querySelector('#df-4b6524f8-4733-434a-9936-02feaf864879');\n",
              "        const dataTable =\n",
              "          await google.colab.kernel.invokeFunction('convertToInteractive',\n",
              "                                                    [key], {});\n",
              "        if (!dataTable) return;\n",
              "\n",
              "        const docLinkHtml = 'Like what you see? Visit the ' +\n",
              "          '<a target=\"_blank\" href=https://colab.research.google.com/notebooks/data_table.ipynb>data table notebook</a>'\n",
              "          + ' to learn more about interactive tables.';\n",
              "        element.innerHTML = '';\n",
              "        dataTable['output_type'] = 'display_data';\n",
              "        await google.colab.output.renderOutput(dataTable, element);\n",
              "        const docLink = document.createElement('div');\n",
              "        docLink.innerHTML = docLinkHtml;\n",
              "        element.appendChild(docLink);\n",
              "      }\n",
              "    </script>\n",
              "  </div>\n",
              "\n",
              "\n",
              "<div id=\"df-774eb09a-561b-4093-a76a-0edd878aa9e0\">\n",
              "  <button class=\"colab-df-quickchart\" onclick=\"quickchart('df-774eb09a-561b-4093-a76a-0edd878aa9e0')\"\n",
              "            title=\"Suggest charts\"\n",
              "            style=\"display:none;\">\n",
              "\n",
              "<svg xmlns=\"http://www.w3.org/2000/svg\" height=\"24px\"viewBox=\"0 0 24 24\"\n",
              "     width=\"24px\">\n",
              "    <g>\n",
              "        <path d=\"M19 3H5c-1.1 0-2 .9-2 2v14c0 1.1.9 2 2 2h14c1.1 0 2-.9 2-2V5c0-1.1-.9-2-2-2zM9 17H7v-7h2v7zm4 0h-2V7h2v10zm4 0h-2v-4h2v4z\"/>\n",
              "    </g>\n",
              "</svg>\n",
              "  </button>\n",
              "\n",
              "<style>\n",
              "  .colab-df-quickchart {\n",
              "      --bg-color: #E8F0FE;\n",
              "      --fill-color: #1967D2;\n",
              "      --hover-bg-color: #E2EBFA;\n",
              "      --hover-fill-color: #174EA6;\n",
              "      --disabled-fill-color: #AAA;\n",
              "      --disabled-bg-color: #DDD;\n",
              "  }\n",
              "\n",
              "  [theme=dark] .colab-df-quickchart {\n",
              "      --bg-color: #3B4455;\n",
              "      --fill-color: #D2E3FC;\n",
              "      --hover-bg-color: #434B5C;\n",
              "      --hover-fill-color: #FFFFFF;\n",
              "      --disabled-bg-color: #3B4455;\n",
              "      --disabled-fill-color: #666;\n",
              "  }\n",
              "\n",
              "  .colab-df-quickchart {\n",
              "    background-color: var(--bg-color);\n",
              "    border: none;\n",
              "    border-radius: 50%;\n",
              "    cursor: pointer;\n",
              "    display: none;\n",
              "    fill: var(--fill-color);\n",
              "    height: 32px;\n",
              "    padding: 0;\n",
              "    width: 32px;\n",
              "  }\n",
              "\n",
              "  .colab-df-quickchart:hover {\n",
              "    background-color: var(--hover-bg-color);\n",
              "    box-shadow: 0 1px 2px rgba(60, 64, 67, 0.3), 0 1px 3px 1px rgba(60, 64, 67, 0.15);\n",
              "    fill: var(--button-hover-fill-color);\n",
              "  }\n",
              "\n",
              "  .colab-df-quickchart-complete:disabled,\n",
              "  .colab-df-quickchart-complete:disabled:hover {\n",
              "    background-color: var(--disabled-bg-color);\n",
              "    fill: var(--disabled-fill-color);\n",
              "    box-shadow: none;\n",
              "  }\n",
              "\n",
              "  .colab-df-spinner {\n",
              "    border: 2px solid var(--fill-color);\n",
              "    border-color: transparent;\n",
              "    border-bottom-color: var(--fill-color);\n",
              "    animation:\n",
              "      spin 1s steps(1) infinite;\n",
              "  }\n",
              "\n",
              "  @keyframes spin {\n",
              "    0% {\n",
              "      border-color: transparent;\n",
              "      border-bottom-color: var(--fill-color);\n",
              "      border-left-color: var(--fill-color);\n",
              "    }\n",
              "    20% {\n",
              "      border-color: transparent;\n",
              "      border-left-color: var(--fill-color);\n",
              "      border-top-color: var(--fill-color);\n",
              "    }\n",
              "    30% {\n",
              "      border-color: transparent;\n",
              "      border-left-color: var(--fill-color);\n",
              "      border-top-color: var(--fill-color);\n",
              "      border-right-color: var(--fill-color);\n",
              "    }\n",
              "    40% {\n",
              "      border-color: transparent;\n",
              "      border-right-color: var(--fill-color);\n",
              "      border-top-color: var(--fill-color);\n",
              "    }\n",
              "    60% {\n",
              "      border-color: transparent;\n",
              "      border-right-color: var(--fill-color);\n",
              "    }\n",
              "    80% {\n",
              "      border-color: transparent;\n",
              "      border-right-color: var(--fill-color);\n",
              "      border-bottom-color: var(--fill-color);\n",
              "    }\n",
              "    90% {\n",
              "      border-color: transparent;\n",
              "      border-bottom-color: var(--fill-color);\n",
              "    }\n",
              "  }\n",
              "</style>\n",
              "\n",
              "  <script>\n",
              "    async function quickchart(key) {\n",
              "      const quickchartButtonEl =\n",
              "        document.querySelector('#' + key + ' button');\n",
              "      quickchartButtonEl.disabled = true;  // To prevent multiple clicks.\n",
              "      quickchartButtonEl.classList.add('colab-df-spinner');\n",
              "      try {\n",
              "        const charts = await google.colab.kernel.invokeFunction(\n",
              "            'suggestCharts', [key], {});\n",
              "      } catch (error) {\n",
              "        console.error('Error during call to suggestCharts:', error);\n",
              "      }\n",
              "      quickchartButtonEl.classList.remove('colab-df-spinner');\n",
              "      quickchartButtonEl.classList.add('colab-df-quickchart-complete');\n",
              "    }\n",
              "    (() => {\n",
              "      let quickchartButtonEl =\n",
              "        document.querySelector('#df-774eb09a-561b-4093-a76a-0edd878aa9e0 button');\n",
              "      quickchartButtonEl.style.display =\n",
              "        google.colab.kernel.accessAllowed ? 'block' : 'none';\n",
              "    })();\n",
              "  </script>\n",
              "</div>\n",
              "\n",
              "    </div>\n",
              "  </div>\n"
            ],
            "application/vnd.google.colaboratory.intrinsic+json": {
              "type": "dataframe",
              "variable_name": "data",
              "summary": "{\n  \"name\": \"data\",\n  \"rows\": 973,\n  \"fields\": [\n    {\n      \"column\": \"Age\",\n      \"properties\": {\n        \"dtype\": \"number\",\n        \"std\": 12,\n        \"min\": 18,\n        \"max\": 59,\n        \"num_unique_values\": 42,\n        \"samples\": [\n          26,\n          19,\n          41\n        ],\n        \"semantic_type\": \"\",\n        \"description\": \"\"\n      }\n    },\n    {\n      \"column\": \"Gender\",\n      \"properties\": {\n        \"dtype\": \"category\",\n        \"num_unique_values\": 2,\n        \"samples\": [\n          \"Female\",\n          \"Male\"\n        ],\n        \"semantic_type\": \"\",\n        \"description\": \"\"\n      }\n    },\n    {\n      \"column\": \"Weight (kg)\",\n      \"properties\": {\n        \"dtype\": \"number\",\n        \"std\": 21.20750049840718,\n        \"min\": 40.0,\n        \"max\": 129.9,\n        \"num_unique_values\": 532,\n        \"samples\": [\n          70.3,\n          127.1\n        ],\n        \"semantic_type\": \"\",\n        \"description\": \"\"\n      }\n    },\n    {\n      \"column\": \"Height (m)\",\n      \"properties\": {\n        \"dtype\": \"number\",\n        \"std\": 0.12771989460721703,\n        \"min\": 1.5,\n        \"max\": 2.0,\n        \"num_unique_values\": 51,\n        \"samples\": [\n          1.92,\n          1.96\n        ],\n        \"semantic_type\": \"\",\n        \"description\": \"\"\n      }\n    },\n    {\n      \"column\": \"Workout_Type\",\n      \"properties\": {\n        \"dtype\": \"category\",\n        \"num_unique_values\": 4,\n        \"samples\": [\n          \"HIIT\",\n          \"Strength\"\n        ],\n        \"semantic_type\": \"\",\n        \"description\": \"\"\n      }\n    },\n    {\n      \"column\": \"Water_Intake (liters)\",\n      \"properties\": {\n        \"dtype\": \"number\",\n        \"std\": 0.6001719365613234,\n        \"min\": 1.5,\n        \"max\": 3.7,\n        \"num_unique_values\": 23,\n        \"samples\": [\n          1.8,\n          3.3\n        ],\n        \"semantic_type\": \"\",\n        \"description\": \"\"\n      }\n    },\n    {\n      \"column\": \"Workout(days/week)\",\n      \"properties\": {\n        \"dtype\": \"number\",\n        \"std\": 0,\n        \"min\": 2,\n        \"max\": 5,\n        \"num_unique_values\": 4,\n        \"samples\": [\n          3,\n          2\n        ],\n        \"semantic_type\": \"\",\n        \"description\": \"\"\n      }\n    },\n    {\n      \"column\": \"BMI\",\n      \"properties\": {\n        \"dtype\": \"number\",\n        \"std\": 6.660879393631086,\n        \"min\": 12.32,\n        \"max\": 49.84,\n        \"num_unique_values\": 771,\n        \"samples\": [\n          22.67,\n          23.94\n        ],\n        \"semantic_type\": \"\",\n        \"description\": \"\"\n      }\n    }\n  ]\n}"
            }
          },
          "metadata": {},
          "execution_count": 50
        }
      ]
    },
    {
      "cell_type": "code",
      "source": [
        "data.info() # Check data types and missing values"
      ],
      "metadata": {
        "colab": {
          "base_uri": "https://localhost:8080/"
        },
        "id": "gsK92Cl3es2m",
        "outputId": "27f46dfe-6d12-43a5-fec3-8d087bd5c6c5"
      },
      "execution_count": 51,
      "outputs": [
        {
          "output_type": "stream",
          "name": "stdout",
          "text": [
            "<class 'pandas.core.frame.DataFrame'>\n",
            "RangeIndex: 973 entries, 0 to 972\n",
            "Data columns (total 8 columns):\n",
            " #   Column                 Non-Null Count  Dtype  \n",
            "---  ------                 --------------  -----  \n",
            " 0   Age                    973 non-null    int64  \n",
            " 1   Gender                 973 non-null    object \n",
            " 2   Weight (kg)            973 non-null    float64\n",
            " 3   Height (m)             973 non-null    float64\n",
            " 4   Workout_Type           973 non-null    object \n",
            " 5   Water_Intake (liters)  973 non-null    float64\n",
            " 6   Workout(days/week)     973 non-null    int64  \n",
            " 7   BMI                    973 non-null    float64\n",
            "dtypes: float64(4), int64(2), object(2)\n",
            "memory usage: 60.9+ KB\n"
          ]
        }
      ]
    },
    {
      "cell_type": "code",
      "source": [
        "data.isnull().sum() # Check for missing values"
      ],
      "metadata": {
        "colab": {
          "base_uri": "https://localhost:8080/",
          "height": 335
        },
        "id": "GqGXTnksWB3g",
        "outputId": "c80e2014-f8ad-41a9-f0b9-e5e3c9387502"
      },
      "execution_count": 52,
      "outputs": [
        {
          "output_type": "execute_result",
          "data": {
            "text/plain": [
              "Age                      0\n",
              "Gender                   0\n",
              "Weight (kg)              0\n",
              "Height (m)               0\n",
              "Workout_Type             0\n",
              "Water_Intake (liters)    0\n",
              "Workout(days/week)       0\n",
              "BMI                      0\n",
              "dtype: int64"
            ],
            "text/html": [
              "<div>\n",
              "<style scoped>\n",
              "    .dataframe tbody tr th:only-of-type {\n",
              "        vertical-align: middle;\n",
              "    }\n",
              "\n",
              "    .dataframe tbody tr th {\n",
              "        vertical-align: top;\n",
              "    }\n",
              "\n",
              "    .dataframe thead th {\n",
              "        text-align: right;\n",
              "    }\n",
              "</style>\n",
              "<table border=\"1\" class=\"dataframe\">\n",
              "  <thead>\n",
              "    <tr style=\"text-align: right;\">\n",
              "      <th></th>\n",
              "      <th>0</th>\n",
              "    </tr>\n",
              "  </thead>\n",
              "  <tbody>\n",
              "    <tr>\n",
              "      <th>Age</th>\n",
              "      <td>0</td>\n",
              "    </tr>\n",
              "    <tr>\n",
              "      <th>Gender</th>\n",
              "      <td>0</td>\n",
              "    </tr>\n",
              "    <tr>\n",
              "      <th>Weight (kg)</th>\n",
              "      <td>0</td>\n",
              "    </tr>\n",
              "    <tr>\n",
              "      <th>Height (m)</th>\n",
              "      <td>0</td>\n",
              "    </tr>\n",
              "    <tr>\n",
              "      <th>Workout_Type</th>\n",
              "      <td>0</td>\n",
              "    </tr>\n",
              "    <tr>\n",
              "      <th>Water_Intake (liters)</th>\n",
              "      <td>0</td>\n",
              "    </tr>\n",
              "    <tr>\n",
              "      <th>Workout(days/week)</th>\n",
              "      <td>0</td>\n",
              "    </tr>\n",
              "    <tr>\n",
              "      <th>BMI</th>\n",
              "      <td>0</td>\n",
              "    </tr>\n",
              "  </tbody>\n",
              "</table>\n",
              "</div><br><label><b>dtype:</b> int64</label>"
            ]
          },
          "metadata": {},
          "execution_count": 52
        }
      ]
    },
    {
      "cell_type": "code",
      "source": [
        "data.duplicated().sum()  # Check for duplicates\n"
      ],
      "metadata": {
        "colab": {
          "base_uri": "https://localhost:8080/"
        },
        "id": "BtGUQQ-ySSCd",
        "outputId": "daf175e0-ad38-457e-c8ca-6fb65be301ed"
      },
      "execution_count": 53,
      "outputs": [
        {
          "output_type": "execute_result",
          "data": {
            "text/plain": [
              "0"
            ]
          },
          "metadata": {},
          "execution_count": 53
        }
      ]
    },
    {
      "cell_type": "code",
      "source": [
        "data.columns\n"
      ],
      "metadata": {
        "colab": {
          "base_uri": "https://localhost:8080/"
        },
        "id": "lRsXh7RpgEI6",
        "outputId": "8ac9c4a2-a012-4dd7-bf65-1c644fbd2e7e"
      },
      "execution_count": 54,
      "outputs": [
        {
          "output_type": "execute_result",
          "data": {
            "text/plain": [
              "Index(['Age', 'Gender', 'Weight (kg)', 'Height (m)', 'Workout_Type',\n",
              "       'Water_Intake (liters)', 'Workout(days/week)', 'BMI'],\n",
              "      dtype='object')"
            ]
          },
          "metadata": {},
          "execution_count": 54
        }
      ]
    },
    {
      "cell_type": "markdown",
      "source": [
        "## Dropping unuseful columns and doing some enhancements on 'X' dataset"
      ],
      "metadata": {
        "id": "cz_wMkilNmHI"
      }
    },
    {
      "cell_type": "code",
      "source": [
        "# List of columns to drop\n",
        "columns_to_drop = ['family_history_with_overweight', 'FAVC', 'FCVC', 'NCP', 'CAEC', 'SMOKE', 'CALC', 'MTRANS','SCC','TUE']\n",
        "\n",
        "# Dropping the columns from the dataframe\n",
        "X=X.drop(columns=columns_to_drop)\n",
        "\n",
        "# Verify the columns were removed\n",
        "print(X.columns)\n"
      ],
      "metadata": {
        "colab": {
          "base_uri": "https://localhost:8080/"
        },
        "collapsed": true,
        "id": "h280TnNdXvH4",
        "outputId": "984268da-d685-4922-8ead-4883f8f06051"
      },
      "execution_count": 55,
      "outputs": [
        {
          "output_type": "stream",
          "name": "stdout",
          "text": [
            "Index(['Gender', 'Age', 'Height', 'Weight', 'CH2O', 'FAF'], dtype='object')\n"
          ]
        }
      ]
    },
    {
      "cell_type": "markdown",
      "source": [
        " Renaming Columns"
      ],
      "metadata": {
        "id": "Fd70-vCRdua7"
      }
    },
    {
      "cell_type": "code",
      "source": [
        "# Dictionary for renaming columns\n",
        "columns_to_rename = {\n",
        "    'Height': 'Height (m)',\n",
        "    'Weight': 'Weight (kg)',\n",
        "    'CH2O': 'Water_Intake (liters)',\n",
        "    'FAF': 'Workout(days/week)'\n",
        "}\n",
        "\n",
        "# Renaming the columns in X\n",
        "X = X.rename(columns=columns_to_rename)\n",
        "\n",
        "# Verify the changes\n",
        "print(X.columns)\n"
      ],
      "metadata": {
        "colab": {
          "base_uri": "https://localhost:8080/"
        },
        "id": "WT_h8jhCdzY8",
        "outputId": "309c6203-708e-47ae-d812-65d425beb4a0"
      },
      "execution_count": 56,
      "outputs": [
        {
          "output_type": "stream",
          "name": "stdout",
          "text": [
            "Index(['Gender', 'Age', 'Height (m)', 'Weight (kg)', 'Water_Intake (liters)',\n",
            "       'Workout(days/week)'],\n",
            "      dtype='object')\n"
          ]
        }
      ]
    },
    {
      "cell_type": "markdown",
      "source": [
        " Casting Needed Types"
      ],
      "metadata": {
        "id": "sstOnnC-fYNc"
      }
    },
    {
      "cell_type": "code",
      "source": [
        "# Convert the 'Workout(days/week)' column to integer type\n",
        "X['Workout(days/week)'] = X['Workout(days/week)'].astype(int)\n",
        "X['Age'] = X['Age'].astype(int)  # Convert the 'Age' column to integer type\n"
      ],
      "metadata": {
        "id": "QC9x-QCwfgRT"
      },
      "execution_count": 57,
      "outputs": []
    },
    {
      "cell_type": "code",
      "source": [
        "# Check the first few rows of the feature data\n",
        "print(X.head())"
      ],
      "metadata": {
        "colab": {
          "base_uri": "https://localhost:8080/"
        },
        "id": "S9zQ2j1LTJrr",
        "outputId": "ebe66806-cb68-446e-fa08-d27be4566b1d"
      },
      "execution_count": 58,
      "outputs": [
        {
          "output_type": "stream",
          "name": "stdout",
          "text": [
            "   Gender  Age  Height (m)  Weight (kg)  Water_Intake (liters)  \\\n",
            "0  Female   21        1.62         64.0                    2.0   \n",
            "1  Female   21        1.52         56.0                    3.0   \n",
            "2    Male   23        1.80         77.0                    2.0   \n",
            "3    Male   27        1.80         87.0                    2.0   \n",
            "4    Male   22        1.78         89.8                    2.0   \n",
            "\n",
            "   Workout(days/week)  \n",
            "0                   0  \n",
            "1                   3  \n",
            "2                   2  \n",
            "3                   2  \n",
            "4                   0  \n"
          ]
        }
      ]
    },
    {
      "cell_type": "code",
      "source": [
        "print(X.isnull().sum()) # Check for missing values"
      ],
      "metadata": {
        "colab": {
          "base_uri": "https://localhost:8080/"
        },
        "id": "U0qfFxIITfmY",
        "outputId": "2d67c508-3c1f-4e62-af0f-31930442aa90"
      },
      "execution_count": 59,
      "outputs": [
        {
          "output_type": "stream",
          "name": "stdout",
          "text": [
            "Gender                   0\n",
            "Age                      0\n",
            "Height (m)               0\n",
            "Weight (kg)              0\n",
            "Water_Intake (liters)    0\n",
            "Workout(days/week)       0\n",
            "dtype: int64\n"
          ]
        }
      ]
    },
    {
      "cell_type": "code",
      "source": [
        "print(X.duplicated().sum())  # Check for duplicates"
      ],
      "metadata": {
        "colab": {
          "base_uri": "https://localhost:8080/"
        },
        "id": "YQIjqHhfS72p",
        "outputId": "32bd65e5-0695-41c9-e403-df561fa94220"
      },
      "execution_count": 60,
      "outputs": [
        {
          "output_type": "stream",
          "name": "stdout",
          "text": [
            "28\n"
          ]
        }
      ]
    },
    {
      "cell_type": "code",
      "source": [
        "X = X.drop_duplicates()  # Remove duplicates\n",
        "print(f\"Number of duplicates in X after removal: {X.duplicated().sum()}\") # Verify the removal of duplicates"
      ],
      "metadata": {
        "colab": {
          "base_uri": "https://localhost:8080/"
        },
        "id": "p9niu08qTXPv",
        "outputId": "1e545324-bd3d-46ca-9734-3bba64d7fd3e"
      },
      "execution_count": 62,
      "outputs": [
        {
          "output_type": "stream",
          "name": "stdout",
          "text": [
            "Number of duplicates in X after removal: 0\n"
          ]
        }
      ]
    },
    {
      "cell_type": "markdown",
      "source": [
        "# Data Cleaning"
      ],
      "metadata": {
        "id": "4gduLMdlAWR3"
      }
    },
    {
      "cell_type": "code",
      "source": [
        "# Frequency count\n",
        "frequency = data['Workout_Type'].value_counts()\n",
        "\n",
        "# Plotting with a Seaborn color palette\n",
        "plt.figure(figsize=(10, 6))\n",
        "sns.barplot(x=frequency.index, y=frequency.values, palette='Set2')\n",
        "plt.title('Frequency of Workout Types')\n",
        "plt.xlabel('Workout Type')\n",
        "plt.ylabel('Frequency')\n",
        "plt.show()\n"
      ],
      "metadata": {
        "colab": {
          "base_uri": "https://localhost:8080/",
          "height": 564
        },
        "id": "1PG8Tbz5f4HH",
        "outputId": "89885406-caec-4721-8d36-be958253ae16"
      },
      "execution_count": 63,
      "outputs": [
        {
          "output_type": "display_data",
          "data": {
            "text/plain": [
              "<Figure size 1000x600 with 1 Axes>"
            ],
            "image/png": "[encoded data removed]"
          },
          "metadata": {}
        }
      ]
    },
    {
      "cell_type": "code",
      "source": [
        "# Group by 'Workout_Type' and 'Gender' and count the occurrences\n",
        "grouped_data = data.groupby(['Workout_Type', 'Gender']).size().reset_index(name='Frequency')\n",
        "\n",
        "# Plotting the barplot\n",
        "plt.figure(figsize=(14, 6))\n",
        "sns.barplot(x='Workout_Type', y='Frequency', hue='Gender', data=grouped_data, palette='Set1')\n",
        "plt.title('Frequency of Workout Types by Gender')\n",
        "plt.xlabel('Workout Type')\n",
        "plt.ylabel('Frequency')\n",
        "plt.legend(title='Gender', loc='upper right')\n",
        "plt.show()\n"
      ],
      "metadata": {
        "colab": {
          "base_uri": "https://localhost:8080/",
          "height": 564
        },
        "id": "8neAcU2-ioOf",
        "outputId": "bc950165-1baa-4214-efd1-7be93e6374ec"
      },
      "execution_count": 64,
      "outputs": [
        {
          "output_type": "display_data",
          "data": {
            "text/plain": [
              "<Figure size 1400x600 with 1 Axes>"
            ],
            "image/png": "[encoded data removed]"
          },
          "metadata": {}
        }
      ]
    },
    {
      "cell_type": "code",
      "source": [
        "#The Yoga result is interesting\n",
        "data.shape"
      ],
      "metadata": {
        "colab": {
          "base_uri": "https://localhost:8080/"
        },
        "id": "m1Eb6x_1lBLW",
        "outputId": "b03ae97e-a47c-411e-8415-4de2321d398d"
      },
      "execution_count": 65,
      "outputs": [
        {
          "output_type": "execute_result",
          "data": {
            "text/plain": [
              "(973, 8)"
            ]
          },
          "metadata": {},
          "execution_count": 65
        }
      ]
    },
    {
      "cell_type": "code",
      "source": [
        "max_bmi = data['BMI'].max()\n",
        "print(f\"The maximum BMI is: {max_bmi}\")\n"
      ],
      "metadata": {
        "colab": {
          "base_uri": "https://localhost:8080/"
        },
        "id": "EZ1X1QFohiHm",
        "outputId": "ffbe999d-c269-440b-bd25-7370136b0b6c"
      },
      "execution_count": 66,
      "outputs": [
        {
          "output_type": "stream",
          "name": "stdout",
          "text": [
            "The maximum BMI is: 49.84\n"
          ]
        }
      ]
    },
    {
      "cell_type": "markdown",
      "source": [
        "Add BMI COLUMN to X dataset"
      ],
      "metadata": {
        "id": "ApAN-PeTPQbc"
      }
    },
    {
      "cell_type": "code",
      "source": [
        "# Ensure no division by zero (Height should not be zero)\n",
        "X = X[X['Height (m)'] > 0]\n",
        "\n",
        "# Calculate BMI using Weight and Height from the X dataset\n",
        "X['BMI'] = X['Weight (kg)'] / (X['Height (m)'] ** 2)\n",
        "\n",
        "# Display the updated X dataset\n",
        "print(X.head())\n"
      ],
      "metadata": {
        "colab": {
          "base_uri": "https://localhost:8080/"
        },
        "id": "QztA5ZKyGn_k",
        "outputId": "fe27f79f-d592-4e38-dd0c-b896bd7b1cac"
      },
      "execution_count": 67,
      "outputs": [
        {
          "output_type": "stream",
          "name": "stdout",
          "text": [
            "   Gender  Age  Height (m)  Weight (kg)  Water_Intake (liters)  \\\n",
            "0  Female   21        1.62         64.0                    2.0   \n",
            "1  Female   21        1.52         56.0                    3.0   \n",
            "2    Male   23        1.80         77.0                    2.0   \n",
            "3    Male   27        1.80         87.0                    2.0   \n",
            "4    Male   22        1.78         89.8                    2.0   \n",
            "\n",
            "   Workout(days/week)        BMI  \n",
            "0                   0  24.386526  \n",
            "1                   3  24.238227  \n",
            "2                   2  23.765432  \n",
            "3                   2  26.851852  \n",
            "4                   0  28.342381  \n"
          ]
        }
      ]
    },
    {
      "cell_type": "markdown",
      "source": [
        "Checking BMI DATA TYPE"
      ],
      "metadata": {
        "id": "_qZqRSfnITcu"
      }
    },
    {
      "cell_type": "code",
      "source": [
        "print(X.info())"
      ],
      "metadata": {
        "id": "FDCgz2MzHrAn",
        "colab": {
          "base_uri": "https://localhost:8080/"
        },
        "outputId": "5d56a1c5-1e6d-41c0-865e-9c1e9a5542a8"
      },
      "execution_count": 68,
      "outputs": [
        {
          "output_type": "stream",
          "name": "stdout",
          "text": [
            "<class 'pandas.core.frame.DataFrame'>\n",
            "Index: 2083 entries, 0 to 2110\n",
            "Data columns (total 7 columns):\n",
            " #   Column                 Non-Null Count  Dtype  \n",
            "---  ------                 --------------  -----  \n",
            " 0   Gender                 2083 non-null   object \n",
            " 1   Age                    2083 non-null   int64  \n",
            " 2   Height (m)             2083 non-null   float64\n",
            " 3   Weight (kg)            2083 non-null   float64\n",
            " 4   Water_Intake (liters)  2083 non-null   float64\n",
            " 5   Workout(days/week)     2083 non-null   int64  \n",
            " 6   BMI                    2083 non-null   float64\n",
            "dtypes: float64(4), int64(2), object(1)\n",
            "memory usage: 130.2+ KB\n",
            "None\n"
          ]
        }
      ]
    },
    {
      "cell_type": "markdown",
      "source": [
        "Fix the issue by Rounding"
      ],
      "metadata": {
        "id": "j0DUr2RqIe-9"
      }
    },
    {
      "cell_type": "code",
      "source": [
        "X['BMI'] = X['BMI'].round(2)  # Round BMI to 2 decimal places\n",
        "print(X.head())  # Display the updated X dataset\n"
      ],
      "metadata": {
        "id": "A2V01mgEIacJ",
        "colab": {
          "base_uri": "https://localhost:8080/"
        },
        "outputId": "187dbe65-5162-4bf7-ed5d-2048f95d8a19"
      },
      "execution_count": 69,
      "outputs": [
        {
          "output_type": "stream",
          "name": "stdout",
          "text": [
            "   Gender  Age  Height (m)  Weight (kg)  Water_Intake (liters)  \\\n",
            "0  Female   21        1.62         64.0                    2.0   \n",
            "1  Female   21        1.52         56.0                    3.0   \n",
            "2    Male   23        1.80         77.0                    2.0   \n",
            "3    Male   27        1.80         87.0                    2.0   \n",
            "4    Male   22        1.78         89.8                    2.0   \n",
            "\n",
            "   Workout(days/week)    BMI  \n",
            "0                   0  24.39  \n",
            "1                   3  24.24  \n",
            "2                   2  23.77  \n",
            "3                   2  26.85  \n",
            "4                   0  28.34  \n"
          ]
        }
      ]
    },
    {
      "cell_type": "code",
      "source": [
        "# Strip leading/trailing spaces\n",
        "X['Gender'] = X['Gender'].str.strip()\n",
        "data['Gender'] = data['Gender'].str.strip()\n",
        "\n",
        "# Make sure the case is consistent\n",
        "X['Gender'] = X['Gender'].str.lower()\n",
        "data['Gender'] = data['Gender'].str.lower()\n"
      ],
      "metadata": {
        "id": "sp1wWynJm5hM"
      },
      "execution_count": 70,
      "outputs": []
    },
    {
      "cell_type": "markdown",
      "source": [
        "Removing Work_out Column"
      ],
      "metadata": {
        "id": "YjGgQAOhsZWb"
      }
    },
    {
      "cell_type": "code",
      "source": [
        "data = data.drop('Workout_Type', axis=1) # Drop the 'Workout_Type' column from the 'data' dataset"
      ],
      "metadata": {
        "id": "fs1055L1sYNJ"
      },
      "execution_count": 71,
      "outputs": []
    },
    {
      "cell_type": "code",
      "source": [
        "data.head()"
      ],
      "metadata": {
        "id": "A1gsXK-imq42",
        "colab": {
          "base_uri": "https://localhost:8080/",
          "height": 206
        },
        "outputId": "42277a51-8411-43c9-8b11-e57541c8990c"
      },
      "execution_count": 72,
      "outputs": [
        {
          "output_type": "execute_result",
          "data": {
            "text/plain": [
              "   Age  Gender  Weight (kg)  Height (m)  Water_Intake (liters)  \\\n",
              "0   56    male         88.3        1.71                    3.5   \n",
              "1   46  female         74.9        1.53                    2.1   \n",
              "2   32  female         68.1        1.66                    2.3   \n",
              "3   25    male         53.2        1.70                    2.1   \n",
              "4   38    male         46.1        1.79                    2.8   \n",
              "\n",
              "   Workout(days/week)    BMI  \n",
              "0                   4  30.20  \n",
              "1                   4  32.00  \n",
              "2                   4  24.71  \n",
              "3                   3  18.41  \n",
              "4                   3  14.39  "
            ],
            "text/html": [
              "\n",
              "  <div id=\"df-289410b6-3ece-4a98-b005-a83355b1436f\" class=\"colab-df-container\">\n",
              "    <div>\n",
              "<style scoped>\n",
              "    .dataframe tbody tr th:only-of-type {\n",
              "        vertical-align: middle;\n",
              "    }\n",
              "\n",
              "    .dataframe tbody tr th {\n",
              "        vertical-align: top;\n",
              "    }\n",
              "\n",
              "    .dataframe thead th {\n",
              "        text-align: right;\n",
              "    }\n",
              "</style>\n",
              "<table border=\"1\" class=\"dataframe\">\n",
              "  <thead>\n",
              "    <tr style=\"text-align: right;\">\n",
              "      <th></th>\n",
              "      <th>Age</th>\n",
              "      <th>Gender</th>\n",
              "      <th>Weight (kg)</th>\n",
              "      <th>Height (m)</th>\n",
              "      <th>Water_Intake (liters)</th>\n",
              "      <th>Workout(days/week)</th>\n",
              "      <th>BMI</th>\n",
              "    </tr>\n",
              "  </thead>\n",
              "  <tbody>\n",
              "    <tr>\n",
              "      <th>0</th>\n",
              "      <td>56</td>\n",
              "      <td>male</td>\n",
              "      <td>88.3</td>\n",
              "      <td>1.71</td>\n",
              "      <td>3.5</td>\n",
              "      <td>4</td>\n",
              "      <td>30.20</td>\n",
              "    </tr>\n",
              "    <tr>\n",
              "      <th>1</th>\n",
              "      <td>46</td>\n",
              "      <td>female</td>\n",
              "      <td>74.9</td>\n",
              "      <td>1.53</td>\n",
              "      <td>2.1</td>\n",
              "      <td>4</td>\n",
              "      <td>32.00</td>\n",
              "    </tr>\n",
              "    <tr>\n",
              "      <th>2</th>\n",
              "      <td>32</td>\n",
              "      <td>female</td>\n",
              "      <td>68.1</td>\n",
              "      <td>1.66</td>\n",
              "      <td>2.3</td>\n",
              "      <td>4</td>\n",
              "      <td>24.71</td>\n",
              "    </tr>\n",
              "    <tr>\n",
              "      <th>3</th>\n",
              "      <td>25</td>\n",
              "      <td>male</td>\n",
              "      <td>53.2</td>\n",
              "      <td>1.70</td>\n",
              "      <td>2.1</td>\n",
              "      <td>3</td>\n",
              "      <td>18.41</td>\n",
              "    </tr>\n",
              "    <tr>\n",
              "      <th>4</th>\n",
              "      <td>38</td>\n",
              "      <td>male</td>\n",
              "      <td>46.1</td>\n",
              "      <td>1.79</td>\n",
              "      <td>2.8</td>\n",
              "      <td>3</td>\n",
              "      <td>14.39</td>\n",
              "    </tr>\n",
              "  </tbody>\n",
              "</table>\n",
              "</div>\n",
              "    <div class=\"colab-df-buttons\">\n",
              "\n",
              "  <div class=\"colab-df-container\">\n",
              "    <button class=\"colab-df-convert\" onclick=\"convertToInteractive('df-289410b6-3ece-4a98-b005-a83355b1436f')\"\n",
              "            title=\"Convert this dataframe to an interactive table.\"\n",
              "            style=\"display:none;\">\n",
              "\n",
              "  <svg xmlns=\"http://www.w3.org/2000/svg\" height=\"24px\" viewBox=\"0 -960 960 960\">\n",
              "    <path d=\"M120-120v-720h720v720H120Zm60-500h600v-160H180v160Zm220 220h160v-160H400v160Zm0 220h160v-160H400v160ZM180-400h160v-160H180v160Zm440 0h160v-160H620v160ZM180-180h160v-160H180v160Zm440 0h160v-160H620v160Z\"/>\n",
              "  </svg>\n",
              "    </button>\n",
              "\n",
              "  <style>\n",
              "    .colab-df-container {\n",
              "      display:flex;\n",
              "      gap: 12px;\n",
              "    }\n",
              "\n",
              "    .colab-df-convert {\n",
              "      background-color: #E8F0FE;\n",
              "      border: none;\n",
              "      border-radius: 50%;\n",
              "      cursor: pointer;\n",
              "      display: none;\n",
              "      fill: #1967D2;\n",
              "      height: 32px;\n",
              "      padding: 0 0 0 0;\n",
              "      width: 32px;\n",
              "    }\n",
              "\n",
              "    .colab-df-convert:hover {\n",
              "      background-color: #E2EBFA;\n",
              "      box-shadow: 0px 1px 2px rgba(60, 64, 67, 0.3), 0px 1px 3px 1px rgba(60, 64, 67, 0.15);\n",
              "      fill: #174EA6;\n",
              "    }\n",
              "\n",
              "    .colab-df-buttons div {\n",
              "      margin-bottom: 4px;\n",
              "    }\n",
              "\n",
              "    [theme=dark] .colab-df-convert {\n",
              "      background-color: #3B4455;\n",
              "      fill: #D2E3FC;\n",
              "    }\n",
              "\n",
              "    [theme=dark] .colab-df-convert:hover {\n",
              "      background-color: #434B5C;\n",
              "      box-shadow: 0px 1px 3px 1px rgba(0, 0, 0, 0.15);\n",
              "      filter: drop-shadow(0px 1px 2px rgba(0, 0, 0, 0.3));\n",
              "      fill: #FFFFFF;\n",
              "    }\n",
              "  </style>\n",
              "\n",
              "    <script>\n",
              "      const buttonEl =\n",
              "        document.querySelector('#df-289410b6-3ece-4a98-b005-a83355b1436f button.colab-df-convert');\n",
              "      buttonEl.style.display =\n",
              "        google.colab.kernel.accessAllowed ? 'block' : 'none';\n",
              "\n",
              "      async function convertToInteractive(key) {\n",
              "        const element = document.querySelector('#df-289410b6-3ece-4a98-b005-a83355b1436f');\n",
              "        const dataTable =\n",
              "          await google.colab.kernel.invokeFunction('convertToInteractive',\n",
              "                                                    [key], {});\n",
              "        if (!dataTable) return;\n",
              "\n",
              "        const docLinkHtml = 'Like what you see? Visit the ' +\n",
              "          '<a target=\"_blank\" href=https://colab.research.google.com/notebooks/data_table.ipynb>data table notebook</a>'\n",
              "          + ' to learn more about interactive tables.';\n",
              "        element.innerHTML = '';\n",
              "        dataTable['output_type'] = 'display_data';\n",
              "        await google.colab.output.renderOutput(dataTable, element);\n",
              "        const docLink = document.createElement('div');\n",
              "        docLink.innerHTML = docLinkHtml;\n",
              "        element.appendChild(docLink);\n",
              "      }\n",
              "    </script>\n",
              "  </div>\n",
              "\n",
              "\n",
              "<div id=\"df-b0d5ff00-b777-446c-af5b-5b252f3b9ea8\">\n",
              "  <button class=\"colab-df-quickchart\" onclick=\"quickchart('df-b0d5ff00-b777-446c-af5b-5b252f3b9ea8')\"\n",
              "            title=\"Suggest charts\"\n",
              "            style=\"display:none;\">\n",
              "\n",
              "<svg xmlns=\"http://www.w3.org/2000/svg\" height=\"24px\"viewBox=\"0 0 24 24\"\n",
              "     width=\"24px\">\n",
              "    <g>\n",
              "        <path d=\"M19 3H5c-1.1 0-2 .9-2 2v14c0 1.1.9 2 2 2h14c1.1 0 2-.9 2-2V5c0-1.1-.9-2-2-2zM9 17H7v-7h2v7zm4 0h-2V7h2v10zm4 0h-2v-4h2v4z\"/>\n",
              "    </g>\n",
              "</svg>\n",
              "  </button>\n",
              "\n",
              "<style>\n",
              "  .colab-df-quickchart {\n",
              "      --bg-color: #E8F0FE;\n",
              "      --fill-color: #1967D2;\n",
              "      --hover-bg-color: #E2EBFA;\n",
              "      --hover-fill-color: #174EA6;\n",
              "      --disabled-fill-color: #AAA;\n",
              "      --disabled-bg-color: #DDD;\n",
              "  }\n",
              "\n",
              "  [theme=dark] .colab-df-quickchart {\n",
              "      --bg-color: #3B4455;\n",
              "      --fill-color: #D2E3FC;\n",
              "      --hover-bg-color: #434B5C;\n",
              "      --hover-fill-color: #FFFFFF;\n",
              "      --disabled-bg-color: #3B4455;\n",
              "      --disabled-fill-color: #666;\n",
              "  }\n",
              "\n",
              "  .colab-df-quickchart {\n",
              "    background-color: var(--bg-color);\n",
              "    border: none;\n",
              "    border-radius: 50%;\n",
              "    cursor: pointer;\n",
              "    display: none;\n",
              "    fill: var(--fill-color);\n",
              "    height: 32px;\n",
              "    padding: 0;\n",
              "    width: 32px;\n",
              "  }\n",
              "\n",
              "  .colab-df-quickchart:hover {\n",
              "    background-color: var(--hover-bg-color);\n",
              "    box-shadow: 0 1px 2px rgba(60, 64, 67, 0.3), 0 1px 3px 1px rgba(60, 64, 67, 0.15);\n",
              "    fill: var(--button-hover-fill-color);\n",
              "  }\n",
              "\n",
              "  .colab-df-quickchart-complete:disabled,\n",
              "  .colab-df-quickchart-complete:disabled:hover {\n",
              "    background-color: var(--disabled-bg-color);\n",
              "    fill: var(--disabled-fill-color);\n",
              "    box-shadow: none;\n",
              "  }\n",
              "\n",
              "  .colab-df-spinner {\n",
              "    border: 2px solid var(--fill-color);\n",
              "    border-color: transparent;\n",
              "    border-bottom-color: var(--fill-color);\n",
              "    animation:\n",
              "      spin 1s steps(1) infinite;\n",
              "  }\n",
              "\n",
              "  @keyframes spin {\n",
              "    0% {\n",
              "      border-color: transparent;\n",
              "      border-bottom-color: var(--fill-color);\n",
              "      border-left-color: var(--fill-color);\n",
              "    }\n",
              "    20% {\n",
              "      border-color: transparent;\n",
              "      border-left-color: var(--fill-color);\n",
              "      border-top-color: var(--fill-color);\n",
              "    }\n",
              "    30% {\n",
              "      border-color: transparent;\n",
              "      border-left-color: var(--fill-color);\n",
              "      border-top-color: var(--fill-color);\n",
              "      border-right-color: var(--fill-color);\n",
              "    }\n",
              "    40% {\n",
              "      border-color: transparent;\n",
              "      border-right-color: var(--fill-color);\n",
              "      border-top-color: var(--fill-color);\n",
              "    }\n",
              "    60% {\n",
              "      border-color: transparent;\n",
              "      border-right-color: var(--fill-color);\n",
              "    }\n",
              "    80% {\n",
              "      border-color: transparent;\n",
              "      border-right-color: var(--fill-color);\n",
              "      border-bottom-color: var(--fill-color);\n",
              "    }\n",
              "    90% {\n",
              "      border-color: transparent;\n",
              "      border-bottom-color: var(--fill-color);\n",
              "    }\n",
              "  }\n",
              "</style>\n",
              "\n",
              "  <script>\n",
              "    async function quickchart(key) {\n",
              "      const quickchartButtonEl =\n",
              "        document.querySelector('#' + key + ' button');\n",
              "      quickchartButtonEl.disabled = true;  // To prevent multiple clicks.\n",
              "      quickchartButtonEl.classList.add('colab-df-spinner');\n",
              "      try {\n",
              "        const charts = await google.colab.kernel.invokeFunction(\n",
              "            'suggestCharts', [key], {});\n",
              "      } catch (error) {\n",
              "        console.error('Error during call to suggestCharts:', error);\n",
              "      }\n",
              "      quickchartButtonEl.classList.remove('colab-df-spinner');\n",
              "      quickchartButtonEl.classList.add('colab-df-quickchart-complete');\n",
              "    }\n",
              "    (() => {\n",
              "      let quickchartButtonEl =\n",
              "        document.querySelector('#df-b0d5ff00-b777-446c-af5b-5b252f3b9ea8 button');\n",
              "      quickchartButtonEl.style.display =\n",
              "        google.colab.kernel.accessAllowed ? 'block' : 'none';\n",
              "    })();\n",
              "  </script>\n",
              "</div>\n",
              "\n",
              "    </div>\n",
              "  </div>\n"
            ],
            "application/vnd.google.colaboratory.intrinsic+json": {
              "type": "dataframe",
              "variable_name": "data",
              "summary": "{\n  \"name\": \"data\",\n  \"rows\": 973,\n  \"fields\": [\n    {\n      \"column\": \"Age\",\n      \"properties\": {\n        \"dtype\": \"number\",\n        \"std\": 12,\n        \"min\": 18,\n        \"max\": 59,\n        \"num_unique_values\": 42,\n        \"samples\": [\n          26,\n          19,\n          41\n        ],\n        \"semantic_type\": \"\",\n        \"description\": \"\"\n      }\n    },\n    {\n      \"column\": \"Gender\",\n      \"properties\": {\n        \"dtype\": \"category\",\n        \"num_unique_values\": 2,\n        \"samples\": [\n          \"female\",\n          \"male\"\n        ],\n        \"semantic_type\": \"\",\n        \"description\": \"\"\n      }\n    },\n    {\n      \"column\": \"Weight (kg)\",\n      \"properties\": {\n        \"dtype\": \"number\",\n        \"std\": 21.20750049840718,\n        \"min\": 40.0,\n        \"max\": 129.9,\n        \"num_unique_values\": 532,\n        \"samples\": [\n          70.3,\n          127.1\n        ],\n        \"semantic_type\": \"\",\n        \"description\": \"\"\n      }\n    },\n    {\n      \"column\": \"Height (m)\",\n      \"properties\": {\n        \"dtype\": \"number\",\n        \"std\": 0.12771989460721703,\n        \"min\": 1.5,\n        \"max\": 2.0,\n        \"num_unique_values\": 51,\n        \"samples\": [\n          1.92,\n          1.96\n        ],\n        \"semantic_type\": \"\",\n        \"description\": \"\"\n      }\n    },\n    {\n      \"column\": \"Water_Intake (liters)\",\n      \"properties\": {\n        \"dtype\": \"number\",\n        \"std\": 0.6001719365613234,\n        \"min\": 1.5,\n        \"max\": 3.7,\n        \"num_unique_values\": 23,\n        \"samples\": [\n          1.8,\n          3.3\n        ],\n        \"semantic_type\": \"\",\n        \"description\": \"\"\n      }\n    },\n    {\n      \"column\": \"Workout(days/week)\",\n      \"properties\": {\n        \"dtype\": \"number\",\n        \"std\": 0,\n        \"min\": 2,\n        \"max\": 5,\n        \"num_unique_values\": 4,\n        \"samples\": [\n          3,\n          2\n        ],\n        \"semantic_type\": \"\",\n        \"description\": \"\"\n      }\n    },\n    {\n      \"column\": \"BMI\",\n      \"properties\": {\n        \"dtype\": \"number\",\n        \"std\": 6.660879393631086,\n        \"min\": 12.32,\n        \"max\": 49.84,\n        \"num_unique_values\": 771,\n        \"samples\": [\n          22.67,\n          23.94\n        ],\n        \"semantic_type\": \"\",\n        \"description\": \"\"\n      }\n    }\n  ]\n}"
            }
          },
          "metadata": {},
          "execution_count": 72
        }
      ]
    },
    {
      "cell_type": "code",
      "source": [
        "X.head()"
      ],
      "metadata": {
        "id": "K6zzpqS3lZ2o",
        "colab": {
          "base_uri": "https://localhost:8080/",
          "height": 206
        },
        "outputId": "f1c07da2-431a-40e0-ed7e-d12f812bca57"
      },
      "execution_count": 73,
      "outputs": [
        {
          "output_type": "execute_result",
          "data": {
            "text/plain": [
              "   Gender  Age  Height (m)  Weight (kg)  Water_Intake (liters)  \\\n",
              "0  female   21        1.62         64.0                    2.0   \n",
              "1  female   21        1.52         56.0                    3.0   \n",
              "2    male   23        1.80         77.0                    2.0   \n",
              "3    male   27        1.80         87.0                    2.0   \n",
              "4    male   22        1.78         89.8                    2.0   \n",
              "\n",
              "   Workout(days/week)    BMI  \n",
              "0                   0  24.39  \n",
              "1                   3  24.24  \n",
              "2                   2  23.77  \n",
              "3                   2  26.85  \n",
              "4                   0  28.34  "
            ],
            "text/html": [
              "\n",
              "  <div id=\"df-85134668-bd77-44a1-bc3a-949db3f697c0\" class=\"colab-df-container\">\n",
              "    <div>\n",
              "<style scoped>\n",
              "    .dataframe tbody tr th:only-of-type {\n",
              "        vertical-align: middle;\n",
              "    }\n",
              "\n",
              "    .dataframe tbody tr th {\n",
              "        vertical-align: top;\n",
              "    }\n",
              "\n",
              "    .dataframe thead th {\n",
              "        text-align: right;\n",
              "    }\n",
              "</style>\n",
              "<table border=\"1\" class=\"dataframe\">\n",
              "  <thead>\n",
              "    <tr style=\"text-align: right;\">\n",
              "      <th></th>\n",
              "      <th>Gender</th>\n",
              "      <th>Age</th>\n",
              "      <th>Height (m)</th>\n",
              "      <th>Weight (kg)</th>\n",
              "      <th>Water_Intake (liters)</th>\n",
              "      <th>Workout(days/week)</th>\n",
              "      <th>BMI</th>\n",
              "    </tr>\n",
              "  </thead>\n",
              "  <tbody>\n",
              "    <tr>\n",
              "      <th>0</th>\n",
              "      <td>female</td>\n",
              "      <td>21</td>\n",
              "      <td>1.62</td>\n",
              "      <td>64.0</td>\n",
              "      <td>2.0</td>\n",
              "      <td>0</td>\n",
              "      <td>24.39</td>\n",
              "    </tr>\n",
              "    <tr>\n",
              "      <th>1</th>\n",
              "      <td>female</td>\n",
              "      <td>21</td>\n",
              "      <td>1.52</td>\n",
              "      <td>56.0</td>\n",
              "      <td>3.0</td>\n",
              "      <td>3</td>\n",
              "      <td>24.24</td>\n",
              "    </tr>\n",
              "    <tr>\n",
              "      <th>2</th>\n",
              "      <td>male</td>\n",
              "      <td>23</td>\n",
              "      <td>1.80</td>\n",
              "      <td>77.0</td>\n",
              "      <td>2.0</td>\n",
              "      <td>2</td>\n",
              "      <td>23.77</td>\n",
              "    </tr>\n",
              "    <tr>\n",
              "      <th>3</th>\n",
              "      <td>male</td>\n",
              "      <td>27</td>\n",
              "      <td>1.80</td>\n",
              "      <td>87.0</td>\n",
              "      <td>2.0</td>\n",
              "      <td>2</td>\n",
              "      <td>26.85</td>\n",
              "    </tr>\n",
              "    <tr>\n",
              "      <th>4</th>\n",
              "      <td>male</td>\n",
              "      <td>22</td>\n",
              "      <td>1.78</td>\n",
              "      <td>89.8</td>\n",
              "      <td>2.0</td>\n",
              "      <td>0</td>\n",
              "      <td>28.34</td>\n",
              "    </tr>\n",
              "  </tbody>\n",
              "</table>\n",
              "</div>\n",
              "    <div class=\"colab-df-buttons\">\n",
              "\n",
              "  <div class=\"colab-df-container\">\n",
              "    <button class=\"colab-df-convert\" onclick=\"convertToInteractive('df-85134668-bd77-44a1-bc3a-949db3f697c0')\"\n",
              "            title=\"Convert this dataframe to an interactive table.\"\n",
              "            style=\"display:none;\">\n",
              "\n",
              "  <svg xmlns=\"http://www.w3.org/2000/svg\" height=\"24px\" viewBox=\"0 -960 960 960\">\n",
              "    <path d=\"M120-120v-720h720v720H120Zm60-500h600v-160H180v160Zm220 220h160v-160H400v160Zm0 220h160v-160H400v160ZM180-400h160v-160H180v160Zm440 0h160v-160H620v160ZM180-180h160v-160H180v160Zm440 0h160v-160H620v160Z\"/>\n",
              "  </svg>\n",
              "    </button>\n",
              "\n",
              "  <style>\n",
              "    .colab-df-container {\n",
              "      display:flex;\n",
              "      gap: 12px;\n",
              "    }\n",
              "\n",
              "    .colab-df-convert {\n",
              "      background-color: #E8F0FE;\n",
              "      border: none;\n",
              "      border-radius: 50%;\n",
              "      cursor: pointer;\n",
              "      display: none;\n",
              "      fill: #1967D2;\n",
              "      height: 32px;\n",
              "      padding: 0 0 0 0;\n",
              "      width: 32px;\n",
              "    }\n",
              "\n",
              "    .colab-df-convert:hover {\n",
              "      background-color: #E2EBFA;\n",
              "      box-shadow: 0px 1px 2px rgba(60, 64, 67, 0.3), 0px 1px 3px 1px rgba(60, 64, 67, 0.15);\n",
              "      fill: #174EA6;\n",
              "    }\n",
              "\n",
              "    .colab-df-buttons div {\n",
              "      margin-bottom: 4px;\n",
              "    }\n",
              "\n",
              "    [theme=dark] .colab-df-convert {\n",
              "      background-color: #3B4455;\n",
              "      fill: #D2E3FC;\n",
              "    }\n",
              "\n",
              "    [theme=dark] .colab-df-convert:hover {\n",
              "      background-color: #434B5C;\n",
              "      box-shadow: 0px 1px 3px 1px rgba(0, 0, 0, 0.15);\n",
              "      filter: drop-shadow(0px 1px 2px rgba(0, 0, 0, 0.3));\n",
              "      fill: #FFFFFF;\n",
              "    }\n",
              "  </style>\n",
              "\n",
              "    <script>\n",
              "      const buttonEl =\n",
              "        document.querySelector('#df-85134668-bd77-44a1-bc3a-949db3f697c0 button.colab-df-convert');\n",
              "      buttonEl.style.display =\n",
              "        google.colab.kernel.accessAllowed ? 'block' : 'none';\n",
              "\n",
              "      async function convertToInteractive(key) {\n",
              "        const element = document.querySelector('#df-85134668-bd77-44a1-bc3a-949db3f697c0');\n",
              "        const dataTable =\n",
              "          await google.colab.kernel.invokeFunction('convertToInteractive',\n",
              "                                                    [key], {});\n",
              "        if (!dataTable) return;\n",
              "\n",
              "        const docLinkHtml = 'Like what you see? Visit the ' +\n",
              "          '<a target=\"_blank\" href=https://colab.research.google.com/notebooks/data_table.ipynb>data table notebook</a>'\n",
              "          + ' to learn more about interactive tables.';\n",
              "        element.innerHTML = '';\n",
              "        dataTable['output_type'] = 'display_data';\n",
              "        await google.colab.output.renderOutput(dataTable, element);\n",
              "        const docLink = document.createElement('div');\n",
              "        docLink.innerHTML = docLinkHtml;\n",
              "        element.appendChild(docLink);\n",
              "      }\n",
              "    </script>\n",
              "  </div>\n",
              "\n",
              "\n",
              "<div id=\"df-23d92a60-f65d-4d6c-a19d-538524f84ebf\">\n",
              "  <button class=\"colab-df-quickchart\" onclick=\"quickchart('df-23d92a60-f65d-4d6c-a19d-538524f84ebf')\"\n",
              "            title=\"Suggest charts\"\n",
              "            style=\"display:none;\">\n",
              "\n",
              "<svg xmlns=\"http://www.w3.org/2000/svg\" height=\"24px\"viewBox=\"0 0 24 24\"\n",
              "     width=\"24px\">\n",
              "    <g>\n",
              "        <path d=\"M19 3H5c-1.1 0-2 .9-2 2v14c0 1.1.9 2 2 2h14c1.1 0 2-.9 2-2V5c0-1.1-.9-2-2-2zM9 17H7v-7h2v7zm4 0h-2V7h2v10zm4 0h-2v-4h2v4z\"/>\n",
              "    </g>\n",
              "</svg>\n",
              "  </button>\n",
              "\n",
              "<style>\n",
              "  .colab-df-quickchart {\n",
              "      --bg-color: #E8F0FE;\n",
              "      --fill-color: #1967D2;\n",
              "      --hover-bg-color: #E2EBFA;\n",
              "      --hover-fill-color: #174EA6;\n",
              "      --disabled-fill-color: #AAA;\n",
              "      --disabled-bg-color: #DDD;\n",
              "  }\n",
              "\n",
              "  [theme=dark] .colab-df-quickchart {\n",
              "      --bg-color: #3B4455;\n",
              "      --fill-color: #D2E3FC;\n",
              "      --hover-bg-color: #434B5C;\n",
              "      --hover-fill-color: #FFFFFF;\n",
              "      --disabled-bg-color: #3B4455;\n",
              "      --disabled-fill-color: #666;\n",
              "  }\n",
              "\n",
              "  .colab-df-quickchart {\n",
              "    background-color: var(--bg-color);\n",
              "    border: none;\n",
              "    border-radius: 50%;\n",
              "    cursor: pointer;\n",
              "    display: none;\n",
              "    fill: var(--fill-color);\n",
              "    height: 32px;\n",
              "    padding: 0;\n",
              "    width: 32px;\n",
              "  }\n",
              "\n",
              "  .colab-df-quickchart:hover {\n",
              "    background-color: var(--hover-bg-color);\n",
              "    box-shadow: 0 1px 2px rgba(60, 64, 67, 0.3), 0 1px 3px 1px rgba(60, 64, 67, 0.15);\n",
              "    fill: var(--button-hover-fill-color);\n",
              "  }\n",
              "\n",
              "  .colab-df-quickchart-complete:disabled,\n",
              "  .colab-df-quickchart-complete:disabled:hover {\n",
              "    background-color: var(--disabled-bg-color);\n",
              "    fill: var(--disabled-fill-color);\n",
              "    box-shadow: none;\n",
              "  }\n",
              "\n",
              "  .colab-df-spinner {\n",
              "    border: 2px solid var(--fill-color);\n",
              "    border-color: transparent;\n",
              "    border-bottom-color: var(--fill-color);\n",
              "    animation:\n",
              "      spin 1s steps(1) infinite;\n",
              "  }\n",
              "\n",
              "  @keyframes spin {\n",
              "    0% {\n",
              "      border-color: transparent;\n",
              "      border-bottom-color: var(--fill-color);\n",
              "      border-left-color: var(--fill-color);\n",
              "    }\n",
              "    20% {\n",
              "      border-color: transparent;\n",
              "      border-left-color: var(--fill-color);\n",
              "      border-top-color: var(--fill-color);\n",
              "    }\n",
              "    30% {\n",
              "      border-color: transparent;\n",
              "      border-left-color: var(--fill-color);\n",
              "      border-top-color: var(--fill-color);\n",
              "      border-right-color: var(--fill-color);\n",
              "    }\n",
              "    40% {\n",
              "      border-color: transparent;\n",
              "      border-right-color: var(--fill-color);\n",
              "      border-top-color: var(--fill-color);\n",
              "    }\n",
              "    60% {\n",
              "      border-color: transparent;\n",
              "      border-right-color: var(--fill-color);\n",
              "    }\n",
              "    80% {\n",
              "      border-color: transparent;\n",
              "      border-right-color: var(--fill-color);\n",
              "      border-bottom-color: var(--fill-color);\n",
              "    }\n",
              "    90% {\n",
              "      border-color: transparent;\n",
              "      border-bottom-color: var(--fill-color);\n",
              "    }\n",
              "  }\n",
              "</style>\n",
              "\n",
              "  <script>\n",
              "    async function quickchart(key) {\n",
              "      const quickchartButtonEl =\n",
              "        document.querySelector('#' + key + ' button');\n",
              "      quickchartButtonEl.disabled = true;  // To prevent multiple clicks.\n",
              "      quickchartButtonEl.classList.add('colab-df-spinner');\n",
              "      try {\n",
              "        const charts = await google.colab.kernel.invokeFunction(\n",
              "            'suggestCharts', [key], {});\n",
              "      } catch (error) {\n",
              "        console.error('Error during call to suggestCharts:', error);\n",
              "      }\n",
              "      quickchartButtonEl.classList.remove('colab-df-spinner');\n",
              "      quickchartButtonEl.classList.add('colab-df-quickchart-complete');\n",
              "    }\n",
              "    (() => {\n",
              "      let quickchartButtonEl =\n",
              "        document.querySelector('#df-23d92a60-f65d-4d6c-a19d-538524f84ebf button');\n",
              "      quickchartButtonEl.style.display =\n",
              "        google.colab.kernel.accessAllowed ? 'block' : 'none';\n",
              "    })();\n",
              "  </script>\n",
              "</div>\n",
              "\n",
              "    </div>\n",
              "  </div>\n"
            ],
            "application/vnd.google.colaboratory.intrinsic+json": {
              "type": "dataframe",
              "variable_name": "X",
              "summary": "{\n  \"name\": \"X\",\n  \"rows\": 2083,\n  \"fields\": [\n    {\n      \"column\": \"Gender\",\n      \"properties\": {\n        \"dtype\": \"category\",\n        \"num_unique_values\": 2,\n        \"samples\": [\n          \"male\",\n          \"female\"\n        ],\n        \"semantic_type\": \"\",\n        \"description\": \"\"\n      }\n    },\n    {\n      \"column\": \"Age\",\n      \"properties\": {\n        \"dtype\": \"number\",\n        \"std\": 6,\n        \"min\": 14,\n        \"max\": 61,\n        \"num_unique_values\": 40,\n        \"samples\": [\n          15,\n          55\n        ],\n        \"semantic_type\": \"\",\n        \"description\": \"\"\n      }\n    },\n    {\n      \"column\": \"Height (m)\",\n      \"properties\": {\n        \"dtype\": \"number\",\n        \"std\": 0.09312771386622103,\n        \"min\": 1.45,\n        \"max\": 1.98,\n        \"num_unique_values\": 1574,\n        \"samples\": [\n          1.760175,\n          1.688436\n        ],\n        \"semantic_type\": \"\",\n        \"description\": \"\"\n      }\n    },\n    {\n      \"column\": \"Weight (kg)\",\n      \"properties\": {\n        \"dtype\": \"number\",\n        \"std\": 26.188320916486532,\n        \"min\": 39.0,\n        \"max\": 173.0,\n        \"num_unique_values\": 1525,\n        \"samples\": [\n          120.702935,\n          64.4\n        ],\n        \"semantic_type\": \"\",\n        \"description\": \"\"\n      }\n    },\n    {\n      \"column\": \"Water_Intake (liters)\",\n      \"properties\": {\n        \"dtype\": \"number\",\n        \"std\": 0.6084698790028127,\n        \"min\": 1.0,\n        \"max\": 3.0,\n        \"num_unique_values\": 1268,\n        \"samples\": [\n          2.395387,\n          1.983973\n        ],\n        \"semantic_type\": \"\",\n        \"description\": \"\"\n      }\n    },\n    {\n      \"column\": \"Workout(days/week)\",\n      \"properties\": {\n        \"dtype\": \"number\",\n        \"std\": 0,\n        \"min\": 0,\n        \"max\": 3,\n        \"num_unique_values\": 4,\n        \"samples\": [\n          3,\n          1\n        ],\n        \"semantic_type\": \"\",\n        \"description\": \"\"\n      }\n    },\n    {\n      \"column\": \"BMI\",\n      \"properties\": {\n        \"dtype\": \"number\",\n        \"std\": 8.027488301078401,\n        \"min\": 13.0,\n        \"max\": 50.81,\n        \"num_unique_values\": 1340,\n        \"samples\": [\n          16.97,\n          34.11\n        ],\n        \"semantic_type\": \"\",\n        \"description\": \"\"\n      }\n    }\n  ]\n}"
            }
          },
          "metadata": {},
          "execution_count": 73
        }
      ]
    },
    {
      "cell_type": "markdown",
      "source": [
        "**So now same columns in both datasets**"
      ],
      "metadata": {
        "id": "5YmEllLguTAS"
      }
    },
    {
      "cell_type": "code",
      "source": [
        "# Concatenate the two datasets along rows (axis=0)\n",
        "combined_data = pd.concat([X, data], ignore_index=True)\n"
      ],
      "metadata": {
        "id": "pyT04C6Knzwe"
      },
      "execution_count": 80,
      "outputs": []
    },
    {
      "cell_type": "code",
      "source": [
        "print(combined_data.columns)  # Check the column names\n"
      ],
      "metadata": {
        "id": "LDMy8s10oDRe",
        "colab": {
          "base_uri": "https://localhost:8080/"
        },
        "outputId": "4513a27d-19ed-401f-b9c8-db55b8254de0"
      },
      "execution_count": 75,
      "outputs": [
        {
          "output_type": "stream",
          "name": "stdout",
          "text": [
            "Index(['Gender', 'Age', 'Height (m)', 'Weight (kg)', 'Water_Intake (liters)',\n",
            "       'Workout(days/week)', 'BMI'],\n",
            "      dtype='object')\n"
          ]
        }
      ]
    },
    {
      "cell_type": "code",
      "source": [
        "combined_data.shape"
      ],
      "metadata": {
        "id": "F9xs48Wru15d",
        "colab": {
          "base_uri": "https://localhost:8080/"
        },
        "outputId": "088d622a-9f61-4eca-ab3f-e40cae4fb3cf"
      },
      "execution_count": 76,
      "outputs": [
        {
          "output_type": "execute_result",
          "data": {
            "text/plain": [
              "(3056, 7)"
            ]
          },
          "metadata": {},
          "execution_count": 76
        }
      ]
    },
    {
      "cell_type": "code",
      "source": [
        "# Check for missing values\n",
        "print(combined_data.isnull().sum())"
      ],
      "metadata": {
        "id": "0qPB6FhAvdhU",
        "colab": {
          "base_uri": "https://localhost:8080/"
        },
        "outputId": "f8a3739c-d18d-4f31-951d-bfa071c0c17c"
      },
      "execution_count": 81,
      "outputs": [
        {
          "output_type": "stream",
          "name": "stdout",
          "text": [
            "Gender                   0\n",
            "Age                      0\n",
            "Height (m)               0\n",
            "Weight (kg)              0\n",
            "Water_Intake (liters)    0\n",
            "Workout(days/week)       0\n",
            "BMI                      0\n",
            "dtype: int64\n"
          ]
        }
      ]
    },
    {
      "cell_type": "code",
      "source": [
        "combined_data.duplicated().sum()"
      ],
      "metadata": {
        "id": "XVMYIn0PwTPa",
        "colab": {
          "base_uri": "https://localhost:8080/"
        },
        "outputId": "0c04db50-e4ad-4f9a-8e7d-804119576895"
      },
      "execution_count": 82,
      "outputs": [
        {
          "output_type": "execute_result",
          "data": {
            "text/plain": [
              "0"
            ]
          },
          "metadata": {},
          "execution_count": 82
        }
      ]
    },
    {
      "cell_type": "code",
      "source": [
        "combined_data.info()"
      ],
      "metadata": {
        "id": "tB4BDgfxwsDl",
        "colab": {
          "base_uri": "https://localhost:8080/"
        },
        "outputId": "69de24f0-a82f-462c-edeb-7c15ea435710"
      },
      "execution_count": 83,
      "outputs": [
        {
          "output_type": "stream",
          "name": "stdout",
          "text": [
            "<class 'pandas.core.frame.DataFrame'>\n",
            "RangeIndex: 3056 entries, 0 to 3055\n",
            "Data columns (total 7 columns):\n",
            " #   Column                 Non-Null Count  Dtype  \n",
            "---  ------                 --------------  -----  \n",
            " 0   Gender                 3056 non-null   object \n",
            " 1   Age                    3056 non-null   int64  \n",
            " 2   Height (m)             3056 non-null   float64\n",
            " 3   Weight (kg)            3056 non-null   float64\n",
            " 4   Water_Intake (liters)  3056 non-null   float64\n",
            " 5   Workout(days/week)     3056 non-null   int64  \n",
            " 6   BMI                    3056 non-null   float64\n",
            "dtypes: float64(4), int64(2), object(1)\n",
            "memory usage: 167.2+ KB\n"
          ]
        }
      ]
    },
    {
      "cell_type": "code",
      "source": [
        "# save the combine 'combined_data' in a csv file\n",
        "\n",
        "# Assuming 'combined_data' DataFrame is already created as in your provided code.\n",
        "combined_data.to_csv('combined_data.csv', index=False)  # Save to CSV, no index column"
      ],
      "metadata": {
        "id": "t0g8pzlHrSF7"
      },
      "execution_count": 84,
      "outputs": []
    },
    {
      "cell_type": "markdown",
      "source": [
        "# Analysis and Questions"
      ],
      "metadata": {
        "id": "GH9P0Qnaxf7O"
      }
    },
    {
      "cell_type": "markdown",
      "source": [
        "## Analysis"
      ],
      "metadata": {
        "id": "LJZ5InneGbm7"
      }
    },
    {
      "cell_type": "code",
      "source": [
        "# Create a Strip Plot to show individual BMI data points by Gender\n",
        "plt.figure(figsize=(8, 6))\n",
        "sns.stripplot(x='Gender', y='BMI', data=combined_data, jitter=True, palette='Set2')\n",
        "plt.title('Individual BMI Data Points by Gender')\n",
        "plt.xlabel('Gender')\n",
        "plt.ylabel('BMI')\n",
        "plt.show()"
      ],
      "metadata": {
        "colab": {
          "base_uri": "https://localhost:8080/",
          "height": 564
        },
        "id": "cvCtT-_NzXng",
        "outputId": "044bd6f0-e337-43f5-9ddc-8430358b31bd",
        "collapsed": true
      },
      "execution_count": 85,
      "outputs": [
        {
          "output_type": "display_data",
          "data": {
            "text/plain": [
              "<Figure size 800x600 with 1 Axes>"
            ],
            "image/png": "[encoded data removed]"
          },
          "metadata": {}
        }
      ]
    },
    {
      "cell_type": "markdown",
      "source": [
        "### Check the percentage of obesity."
      ],
      "metadata": {
        "id": "F1B14KQC8W6z"
      }
    },
    {
      "cell_type": "markdown",
      "source": [
        "30 or more (BMI) Values may indicate obese"
      ],
      "metadata": {
        "id": "HwWy3I_D8LYj"
      }
    },
    {
      "cell_type": "code",
      "source": [
        "# Filter the dataset where BMI >= 30\n",
        "high_bmi =combined_data[combined_data['BMI'] >= 30]\n",
        "\n",
        "# Count the number of rows (individuals) with BMI >= 30\n",
        "count_high_bmi = len(high_bmi)\n",
        "\n",
        "# Display the result\n",
        "print(f\"Number of individuals with BMI >= 30: {count_high_bmi}\")\n"
      ],
      "metadata": {
        "colab": {
          "base_uri": "https://localhost:8080/"
        },
        "id": "5_TVt7I70JSN",
        "outputId": "82a1e7f5-5fab-4192-9842-f0adafd4e701"
      },
      "execution_count": 106,
      "outputs": [
        {
          "output_type": "stream",
          "name": "stdout",
          "text": [
            "Number of individuals with BMI >= 30: 1166\n"
          ]
        }
      ]
    },
    {
      "cell_type": "code",
      "source": [
        "percentage_bmi_30 = (len(high_bmi) / len(combined_data)) * 100  # Calculate the percentage\n",
        "print(f\"Percentage of individuals with BMI >= 30: {percentage_bmi_30:.2f}%\")  # Display the result with 2 decimal places\n"
      ],
      "metadata": {
        "colab": {
          "base_uri": "https://localhost:8080/"
        },
        "id": "7Jprnfxx94pF",
        "outputId": "a8cba20b-3959-4e48-ef60-cf884783f3ef"
      },
      "execution_count": 107,
      "outputs": [
        {
          "output_type": "stream",
          "name": "stdout",
          "text": [
            "Percentage of individuals with BMI >= 30: 38.15%\n"
          ]
        }
      ]
    },
    {
      "cell_type": "code",
      "source": [
        "# Filter the dataset where BMI >= 30\n",
        "high_bmi = combined_data[combined_data['BMI'] >= 30]\n",
        "\n",
        "# Group by Age and Gender to count the number of individuals with BMI >= 30\n",
        "grouped_bmi = high_bmi.groupby(['Age', 'Gender']).size().reset_index(name='Count')\n",
        "\n",
        "# Plotting the data\n",
        "plt.figure(figsize=(12, 6))\n",
        "sns.barplot(x='Age', y='Count', hue='Gender', data=grouped_bmi, palette='Set1')\n",
        "\n",
        "# Adding title and labels\n",
        "plt.title('Distribution of BMI >= 30 by Age and Gender')\n",
        "plt.xlabel('Age')\n",
        "plt.ylabel('Number of Individuals with BMI >= 30')\n",
        "plt.legend(title='Gender')\n",
        "\n",
        "plt.show()\n"
      ],
      "metadata": {
        "colab": {
          "base_uri": "https://localhost:8080/",
          "height": 564
        },
        "id": "CeO3X_o62MBx",
        "outputId": "4e5201da-da0f-4757-d5fb-940065b8eee6"
      },
      "execution_count": 101,
      "outputs": [
        {
          "output_type": "display_data",
          "data": {
            "text/plain": [
              "<Figure size 1200x600 with 1 Axes>"
            ],
            "image/png": "[encoded data removed]"
          },
          "metadata": {}
        }
      ]
    },
    {
      "cell_type": "code",
      "source": [
        "# Filter the dataset where BMI >= 30\n",
        "high_bmi = combined_data[combined_data['BMI'] >= 30]\n",
        "\n",
        "# Group by Age to count the number of individuals with BMI >= 30\n",
        "grouped_bmi_age = high_bmi.groupby('Age').size().reset_index(name='Count')\n",
        "\n",
        "# Plotting the data\n",
        "plt.figure(figsize=(12, 6))\n",
        "sns.barplot(x='Age', y='Count', data=grouped_bmi_age, palette='Set2')\n",
        "\n",
        "# Adding title and labels\n",
        "plt.title('Distribution of BMI >= 30 by Age')\n",
        "plt.xlabel('Age')\n",
        "plt.ylabel('Number of Individuals with BMI >= 30')\n",
        "\n",
        "plt.show()\n"
      ],
      "metadata": {
        "colab": {
          "base_uri": "https://localhost:8080/",
          "height": 564
        },
        "id": "SMORhQ6W2iCy",
        "outputId": "314caa39-7bab-403e-9e6d-aac7c089e977"
      },
      "execution_count": 102,
      "outputs": [
        {
          "output_type": "display_data",
          "data": {
            "text/plain": [
              "<Figure size 1200x600 with 1 Axes>"
            ],
            "image/png": "[encoded data removed]"
          },
          "metadata": {}
        }
      ]
    },
    {
      "cell_type": "code",
      "source": [
        "# Find the row with the maximum BMI\n",
        "max_bmi_row = combined_data.loc[combined_data['BMI'].idxmax()]\n",
        "\n",
        "# Display the maximum BMI value and its corresponding data\n",
        "max_bmi_value = max_bmi_row['BMI']\n",
        "print(\"Maximum BMI:\", max_bmi_value)\n",
        "print(\"Data corresponding to maximum BMI:\")\n",
        "print(max_bmi_row)\n",
        "\n",
        "# Gender                    male\n",
        "# Age                         47\n",
        "# Height (m)                1.93\n",
        "# Weight (kg)               45.9\n",
        "# Water_Intake (liters)      2.0\n",
        "# Workout(days/week)           3\n",
        "# BMI                      12.32\n"
      ],
      "metadata": {
        "colab": {
          "base_uri": "https://localhost:8080/"
        },
        "id": "Tr5gcwLV3WiB",
        "outputId": "3ca7eb60-6611-479a-e73d-46932fad81c1"
      },
      "execution_count": 90,
      "outputs": [
        {
          "output_type": "stream",
          "name": "stdout",
          "text": [
            "Maximum BMI: 50.81\n",
            "Data corresponding to maximum BMI:\n",
            "Gender                       female\n",
            "Age                              21\n",
            "Height (m)                 1.730113\n",
            "Weight (kg)              152.094362\n",
            "Water_Intake (liters)      2.374958\n",
            "Workout(days/week)                0\n",
            "BMI                           50.81\n",
            "Name: 1786, dtype: object\n"
          ]
        }
      ]
    },
    {
      "cell_type": "code",
      "source": [
        "# Add BMI categories based on the classification\n",
        "def classify_bmi(bmi):\n",
        "    if bmi < 18.5:\n",
        "        return 'Underweight'\n",
        "    elif 18.5 <= bmi < 25:\n",
        "        return 'Normal Weight'\n",
        "    elif 25 <= bmi < 30:\n",
        "        return 'Overweight'\n",
        "    else:\n",
        "        return 'Obese'\n",
        "\n",
        "combined_data['BMI_Category'] = combined_data['BMI'].apply(classify_bmi)\n"
      ],
      "metadata": {
        "id": "8swBsoj9ll2D"
      },
      "execution_count": 91,
      "outputs": []
    },
    {
      "cell_type": "code",
      "source": [
        "bmi_counts = combined_data['BMI_Category'].value_counts()\n",
        "print(bmi_counts)\n"
      ],
      "metadata": {
        "colab": {
          "base_uri": "https://localhost:8080/"
        },
        "id": "bqfcZwCQlvha",
        "outputId": "2bc3e5fc-5071-4119-f435-ae928b485766"
      },
      "execution_count": 92,
      "outputs": [
        {
          "output_type": "stream",
          "name": "stdout",
          "text": [
            "BMI_Category\n",
            "Obese            1166\n",
            "Overweight        792\n",
            "Normal Weight     666\n",
            "Underweight       432\n",
            "Name: count, dtype: int64\n"
          ]
        }
      ]
    },
    {
      "cell_type": "code",
      "source": [
        "plt.figure(figsize=(10, 6))\n",
        "sns.countplot(data=combined_data, x='BMI_Category', order=['Underweight', 'Normal Weight', 'Overweight', 'Obese'], palette='coolwarm')\n",
        "\n",
        "# Adding labels and title\n",
        "plt.title('Distribution of BMI Categories', fontsize=16)\n",
        "plt.xlabel('BMI Category', fontsize=12)\n",
        "plt.ylabel('Frequency', fontsize=12)\n",
        "\n",
        "plt.show()\n"
      ],
      "metadata": {
        "colab": {
          "base_uri": "https://localhost:8080/",
          "height": 570
        },
        "id": "RW_eVhstl1Cn",
        "outputId": "d542f07e-3d84-419b-b874-7e8b33a3f3d0"
      },
      "execution_count": 93,
      "outputs": [
        {
          "output_type": "display_data",
          "data": {
            "text/plain": [
              "<Figure size 1000x600 with 1 Axes>"
            ],
            "image/png": "[encoded data removed]"
          },
          "metadata": {}
        }
      ]
    },
    {
      "cell_type": "code",
      "source": [
        "sns.boxplot(data=combined_data, x='Workout(days/week)', y='BMI', palette='magma')\n",
        "plt.title('Workout Frequency vs BMI')\n",
        "plt.xlabel('Workout Frequency (days/week)')\n",
        "plt.ylabel('BMI')\n",
        "plt.show()"
      ],
      "metadata": {
        "colab": {
          "base_uri": "https://localhost:8080/",
          "height": 472
        },
        "id": "9woCC4eZshfn",
        "outputId": "9c555b92-8b9d-4c4d-b491-6285760773f1"
      },
      "execution_count": 97,
      "outputs": [
        {
          "output_type": "display_data",
          "data": {
            "text/plain": [
              "<Figure size 640x480 with 1 Axes>"
            ],
            "image/png": "[encoded data removed]"
          },
          "metadata": {}
        }
      ]
    },
    {
      "cell_type": "code",
      "source": [
        "sns.scatterplot(data=combined_data, x='Height (m)', y='Weight (kg)', hue='BMI', palette='coolwarm', size='BMI', sizes=(20, 200))\n",
        "plt.title('Weight vs Height with BMI Intensity')\n",
        "plt.xlabel('Height (m)')\n",
        "plt.ylabel('Weight (kg)')\n",
        "plt.show()"
      ],
      "metadata": {
        "colab": {
          "base_uri": "https://localhost:8080/",
          "height": 472
        },
        "id": "NjunnkH4uWlM",
        "outputId": "42eefbdc-0ba3-4a23-d067-3d78c6146712"
      },
      "execution_count": 98,
      "outputs": [
        {
          "output_type": "display_data",
          "data": {
            "text/plain": [
              "<Figure size 640x480 with 1 Axes>"
            ],
            "image/png": "[encoded data removed]"
          },
          "metadata": {}
        }
      ]
    },
    {
      "cell_type": "markdown",
      "source": [
        "## Questions"
      ],
      "metadata": {
        "id": "QEH1FtSsGK3w"
      }
    },
    {
      "cell_type": "markdown",
      "source": [
        "### 1. Does exercise preference differ by gender?\n",
        "The chart \"Frequency of Exercise Types by Gender\" shows that males exercise more often than females. Males mainly prefer strength training and yoga, while females focus on cardio and strength exercises.\n",
        "### 2. How do BMI values differ between the genders?\n",
        " Body Mass Index (BMI) values exhibit variations between the genders, with a notable concentration observed in females.\n",
        "### 3. What is the percentage of obesity in the data set?\n",
        " 38.15% of the people have a BMI >=30\n",
        "### 4. How do BMI values ​​differ between ages and genders?\n",
        "The highest proportion of individuals with a BMI over 30 (obese) was among adolescents and young adults aged 17 to 40. More males had a BMI above 30, but the highest recorded BMI was 50.81 in a 21-year-old female, while the lowest was 12.32 in a 47-year-old male.\n",
        "### 5. Is BMI affected by age?\n",
        "A noticeable increase in BMI levels among people in their twenties, often exceeding normal ranges.\n",
        "### 6. How are BMI categories distributed?\n",
        "The dataset encompasses a diverse population across various Body Mass Index (BMI) categories, with the high BMI (OBESE) category exhibiting the most significant representation.\n",
        "### 7. Do movement and workout affect the body mass index?\n",
        "Yes, it appears to us that with regular physical activity five days a week, the body mass index appears healthy. With a lack of physical activity, there is a noticeable increase, so it is good to do physical activity at least two days a week.\n",
        "### 8. What is the relationship between height, weight, and body mass index (BMI)?\n",
        " Research indicates that body mass index (BMI) decreases as weight loss occurs and increases with height. Conversely, BMI tends to rise in response to weight gain.\n"
      ],
      "metadata": {
        "id": "tcu-xh0e4rXH"
      }
    },
    {
      "cell_type": "markdown",
      "source": [
        "# Conclusion"
      ],
      "metadata": {
        "id": "Gxz_vFbZHLyA"
      }
    },
    {
      "cell_type": "markdown",
      "source": [
        "### In conclusion, the analysis reveals significant differences in exercise preferences and Body Mass Index (BMI) based on gender and age. Males tend to exercise more frequently and prefer specific workouts, while females gravitate towards different modalities. With rising obesity rates, especially among younger individuals, promoting regular physical activity is crucial for maintaining a healthy BMI.\n",
        "\n",
        "### It’s essential to develop gender-inclusive fitness programs that incorporate diverse activities like strength training, cardio, and yoga to encourage widespread participation. Public health campaigns should emphasize exercise at least two to five days a week, particularly targeting adolescents and young adults. Providing educational resources about BMI and health can empower informed lifestyle choices. Creating supportive environments, like parks and recreational centers, will further facilitate regular exercise. By implementing these strategies, communities can reduce obesity rates and foster healthier lifestyles, enhancing overall public health outcomes."
      ],
      "metadata": {
        "id": "Hvx7EqhtHVzV"
      }
    }
  ]
}